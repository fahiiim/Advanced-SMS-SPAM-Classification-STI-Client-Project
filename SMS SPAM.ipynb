{
 "cells": [
  {
   "cell_type": "markdown",
   "id": "affd8c39",
   "metadata": {},
   "source": [
    "# AI Solicitor: SMS Spam Detection"
   ]
  },
  {
   "cell_type": "code",
   "execution_count": 1,
   "id": "5ecc4a2d",
   "metadata": {},
   "outputs": [
    {
     "name": "stdout",
     "output_type": "stream",
     "text": [
      "Requirement already satisfied: torch in c:\\users\\bdcalling123\\appdata\\local\\programs\\python\\python313\\lib\\site-packages (2.8.0)\n",
      "Requirement already satisfied: transformers in c:\\users\\bdcalling123\\appdata\\local\\programs\\python\\python313\\lib\\site-packages (4.57.0)\n",
      "Requirement already satisfied: scikit-learn in c:\\users\\bdcalling123\\appdata\\local\\programs\\python\\python313\\lib\\site-packages (1.7.2)\n",
      "Requirement already satisfied: pandas in c:\\users\\bdcalling123\\appdata\\local\\programs\\python\\python313\\lib\\site-packages (2.3.2)\n",
      "Requirement already satisfied: numpy in c:\\users\\bdcalling123\\appdata\\local\\programs\\python\\python313\\lib\\site-packages (2.3.3)\n",
      "Requirement already satisfied: nltk in c:\\users\\bdcalling123\\appdata\\local\\programs\\python\\python313\\lib\\site-packages (3.9.2)\n",
      "Requirement already satisfied: textblob in c:\\users\\bdcalling123\\appdata\\local\\programs\\python\\python313\\lib\\site-packages (0.19.0)\n",
      "Requirement already satisfied: seaborn in c:\\users\\bdcalling123\\appdata\\local\\programs\\python\\python313\\lib\\site-packages (0.13.2)\n",
      "Requirement already satisfied: matplotlib in c:\\users\\bdcalling123\\appdata\\local\\programs\\python\\python313\\lib\\site-packages (3.10.7)\n",
      "Requirement already satisfied: wordcloud in c:\\users\\bdcalling123\\appdata\\local\\programs\\python\\python313\\lib\\site-packages (1.9.4)\n",
      "Requirement already satisfied: imblearn in c:\\users\\bdcalling123\\appdata\\local\\programs\\python\\python313\\lib\\site-packages (0.0)\n",
      "Requirement already satisfied: filelock in c:\\users\\bdcalling123\\appdata\\local\\programs\\python\\python313\\lib\\site-packages (from torch) (3.19.1)\n",
      "Requirement already satisfied: typing-extensions>=4.10.0 in c:\\users\\bdcalling123\\appdata\\local\\programs\\python\\python313\\lib\\site-packages (from torch) (4.15.0)\n",
      "Requirement already satisfied: sympy>=1.13.3 in c:\\users\\bdcalling123\\appdata\\local\\programs\\python\\python313\\lib\\site-packages (from torch) (1.14.0)\n",
      "Requirement already satisfied: networkx in c:\\users\\bdcalling123\\appdata\\local\\programs\\python\\python313\\lib\\site-packages (from torch) (3.5)\n",
      "Requirement already satisfied: jinja2 in c:\\users\\bdcalling123\\appdata\\local\\programs\\python\\python313\\lib\\site-packages (from torch) (3.1.6)\n",
      "Requirement already satisfied: fsspec in c:\\users\\bdcalling123\\appdata\\local\\programs\\python\\python313\\lib\\site-packages (from torch) (2025.9.0)\n",
      "Requirement already satisfied: setuptools in c:\\users\\bdcalling123\\appdata\\local\\programs\\python\\python313\\lib\\site-packages (from torch) (80.9.0)\n",
      "Requirement already satisfied: huggingface-hub<1.0,>=0.34.0 in c:\\users\\bdcalling123\\appdata\\local\\programs\\python\\python313\\lib\\site-packages (from transformers) (0.35.3)\n",
      "Requirement already satisfied: packaging>=20.0 in c:\\users\\bdcalling123\\appdata\\local\\programs\\python\\python313\\lib\\site-packages (from transformers) (25.0)\n",
      "Requirement already satisfied: pyyaml>=5.1 in c:\\users\\bdcalling123\\appdata\\local\\programs\\python\\python313\\lib\\site-packages (from transformers) (6.0.2)\n",
      "Requirement already satisfied: regex!=2019.12.17 in c:\\users\\bdcalling123\\appdata\\local\\programs\\python\\python313\\lib\\site-packages (from transformers) (2025.9.18)\n",
      "Requirement already satisfied: requests in c:\\users\\bdcalling123\\appdata\\local\\programs\\python\\python313\\lib\\site-packages (from transformers) (2.32.5)\n",
      "Requirement already satisfied: tokenizers<=0.23.0,>=0.22.0 in c:\\users\\bdcalling123\\appdata\\local\\programs\\python\\python313\\lib\\site-packages (from transformers) (0.22.1)\n",
      "Requirement already satisfied: safetensors>=0.4.3 in c:\\users\\bdcalling123\\appdata\\local\\programs\\python\\python313\\lib\\site-packages (from transformers) (0.6.2)\n",
      "Requirement already satisfied: tqdm>=4.27 in c:\\users\\bdcalling123\\appdata\\local\\programs\\python\\python313\\lib\\site-packages (from transformers) (4.67.1)\n",
      "Requirement already satisfied: scipy>=1.8.0 in c:\\users\\bdcalling123\\appdata\\local\\programs\\python\\python313\\lib\\site-packages (from scikit-learn) (1.16.2)\n",
      "Requirement already satisfied: joblib>=1.2.0 in c:\\users\\bdcalling123\\appdata\\local\\programs\\python\\python313\\lib\\site-packages (from scikit-learn) (1.5.2)\n",
      "Requirement already satisfied: threadpoolctl>=3.1.0 in c:\\users\\bdcalling123\\appdata\\local\\programs\\python\\python313\\lib\\site-packages (from scikit-learn) (3.6.0)\n",
      "Requirement already satisfied: python-dateutil>=2.8.2 in c:\\users\\bdcalling123\\appdata\\local\\programs\\python\\python313\\lib\\site-packages (from pandas) (2.9.0.post0)\n",
      "Requirement already satisfied: pytz>=2020.1 in c:\\users\\bdcalling123\\appdata\\local\\programs\\python\\python313\\lib\\site-packages (from pandas) (2025.2)\n",
      "Requirement already satisfied: tzdata>=2022.7 in c:\\users\\bdcalling123\\appdata\\local\\programs\\python\\python313\\lib\\site-packages (from pandas) (2025.2)\n",
      "Requirement already satisfied: click in c:\\users\\bdcalling123\\appdata\\local\\programs\\python\\python313\\lib\\site-packages (from nltk) (8.2.1)\n",
      "Requirement already satisfied: contourpy>=1.0.1 in c:\\users\\bdcalling123\\appdata\\local\\programs\\python\\python313\\lib\\site-packages (from matplotlib) (1.3.3)\n",
      "Requirement already satisfied: cycler>=0.10 in c:\\users\\bdcalling123\\appdata\\local\\programs\\python\\python313\\lib\\site-packages (from matplotlib) (0.12.1)\n",
      "Requirement already satisfied: fonttools>=4.22.0 in c:\\users\\bdcalling123\\appdata\\local\\programs\\python\\python313\\lib\\site-packages (from matplotlib) (4.60.1)\n",
      "Requirement already satisfied: kiwisolver>=1.3.1 in c:\\users\\bdcalling123\\appdata\\local\\programs\\python\\python313\\lib\\site-packages (from matplotlib) (1.4.9)\n",
      "Requirement already satisfied: pillow>=8 in c:\\users\\bdcalling123\\appdata\\local\\programs\\python\\python313\\lib\\site-packages (from matplotlib) (11.3.0)\n",
      "Requirement already satisfied: pyparsing>=3 in c:\\users\\bdcalling123\\appdata\\local\\programs\\python\\python313\\lib\\site-packages (from matplotlib) (3.2.5)\n",
      "Requirement already satisfied: imbalanced-learn in c:\\users\\bdcalling123\\appdata\\local\\programs\\python\\python313\\lib\\site-packages (from imblearn) (0.14.0)\n",
      "Requirement already satisfied: six>=1.5 in c:\\users\\bdcalling123\\appdata\\local\\programs\\python\\python313\\lib\\site-packages (from python-dateutil>=2.8.2->pandas) (1.17.0)\n",
      "Requirement already satisfied: mpmath<1.4,>=1.1.0 in c:\\users\\bdcalling123\\appdata\\local\\programs\\python\\python313\\lib\\site-packages (from sympy>=1.13.3->torch) (1.3.0)\n",
      "Requirement already satisfied: colorama in c:\\users\\bdcalling123\\appdata\\local\\programs\\python\\python313\\lib\\site-packages (from tqdm>=4.27->transformers) (0.4.6)\n",
      "Requirement already satisfied: MarkupSafe>=2.0 in c:\\users\\bdcalling123\\appdata\\local\\programs\\python\\python313\\lib\\site-packages (from jinja2->torch) (3.0.2)\n",
      "Requirement already satisfied: charset_normalizer<4,>=2 in c:\\users\\bdcalling123\\appdata\\local\\programs\\python\\python313\\lib\\site-packages (from requests->transformers) (3.4.3)\n",
      "Requirement already satisfied: idna<4,>=2.5 in c:\\users\\bdcalling123\\appdata\\local\\programs\\python\\python313\\lib\\site-packages (from requests->transformers) (2.10)\n",
      "Requirement already satisfied: urllib3<3,>=1.21.1 in c:\\users\\bdcalling123\\appdata\\local\\programs\\python\\python313\\lib\\site-packages (from requests->transformers) (2.5.0)\n",
      "Requirement already satisfied: certifi>=2017.4.17 in c:\\users\\bdcalling123\\appdata\\local\\programs\\python\\python313\\lib\\site-packages (from requests->transformers) (2025.8.3)\n"
     ]
    }
   ],
   "source": [
    "!pip install torch transformers scikit-learn pandas numpy nltk textblob seaborn matplotlib wordcloud imblearn"
   ]
  },
  {
   "cell_type": "code",
   "execution_count": null,
   "id": "0e0186b6",
   "metadata": {},
   "outputs": [],
   "source": [
    "import pandas as pd\n",
    "import numpy as np\n",
    "import matplotlib.pyplot as plt\n",
    "import seaborn as sns\n",
    "from sklearn.model_selection import train_test_split\n",
    "from sklearn.metrics import accuracy_score, classification_report, confusion_matrix\n",
    "from sklearn.utils import class_weight\n",
    "import torch\n",
    "from torch.utils.data import DataLoader, TensorDataset\n",
    "from torch.optim import AdamW\n",
    "from transformers import DistilBertTokenizer, DistilBertForSequenceClassification\n",
    "import nltk\n",
    "from textblob import TextBlob\n",
    "from wordcloud import WordCloud\n",
    "import re\n",
    "import warnings\n",
    "warnings.filterwarnings('ignore')\n",
    "\n",
    "# Download required NLTK data\n",
    "nltk.download('punkt')\n",
    "nltk.download('stopwords')\n",
    "nltk.download('wordnet')\n",
    "nltk.download('averaged_perceptron_tagger')"
   ]
  },
  {
   "cell_type": "code",
   "execution_count": null,
   "id": "940218ac",
   "metadata": {},
   "outputs": [],
   "source": [
    "# Load and explore the dataset\n",
    "dataset = pd.read_csv(\"Datasets/spam (1).csv\", encoding='latin1')\n",
    "dataset = dataset.drop(columns=['Unnamed: 2', 'Unnamed: 3', 'Unnamed: 4'])\n",
    "dataset.head()"
   ]
  },
  {
   "cell_type": "code",
   "execution_count": null,
   "id": "785de828",
   "metadata": {},
   "outputs": [],
   "source": [
    "# Basic dataset information\n",
    "print(\"Dataset shape:\", dataset.shape)\n",
    "print(\"\\nClass distribution:\")\n",
    "print(dataset['v1'].value_counts())\n",
    "print(\"\\nFirst few rows:\")\n",
    "print(dataset.head())"
   ]
  },
  {
   "cell_type": "markdown",
   "id": "dd2130ed",
   "metadata": {},
   "source": [
    "## Advanced Text Preprocessing Pipeline for SMS Data"
   ]
  },
  {
   "cell_type": "markdown",
   "id": "05826796",
   "metadata": {},
   "source": [
    "### Stage 1: Initial Text Cleaning"
   ]
  },
  {
   "cell_type": "code",
   "execution_count": null,
   "id": "1b1ae6ea",
   "metadata": {},
   "outputs": [],
   "source": [
    "# Prepare the text data for preprocessing\n",
    "X = dataset['v2']  # SMS messages\n",
    "y = dataset['v1']  # Labels (spam/ham)\n",
    "\n",
    "# Convert to lowercase\n",
    "X = X.str.lower()\n",
    "\n",
    "# Replace URLs with <URL>\n",
    "X = X.str.replace(r'http\\S+|www\\S+|https\\S+', '<url>', case=False, regex=True)\n",
    "\n",
    "# Replace emails with <EMAIL>\n",
    "X = X.str.replace(r'\\S+@\\S+', '<email>', case=False, regex=True)\n",
    "\n",
    "# Replace phone numbers with <PHONE>\n",
    "X = X.str.replace(r'\\+?\\d[\\d -]{8,12}\\d', '<phone>', case=False, regex=True)\n",
    "\n",
    "# Replace monetary amounts with <MONEY>\n",
    "X = X.str.replace(r'\\$\\d+(\\.\\d{2})?', '<money>', regex=True)\n",
    "\n",
    "# Replace percentages with <PERCENTAGE>\n",
    "X = X.str.replace(r'\\d+%', '<percentage>', regex=True)\n",
    "\n",
    "# Handle encoding issues\n",
    "X = X.str.encode('utf-8', errors='ignore').str.decode('utf-8')\n",
    "\n",
    "print(\"Sample preprocessed messages:\")\n",
    "for i in range(3):\n",
    "    print(f\"{i+1}: {X.iloc[i]}\")"
   ]
  },
  {
   "cell_type": "markdown",
   "id": "31994e1b",
   "metadata": {},
   "source": [
    "### Stage 2: SMS-Specific Preprocessing"
   ]
  },
  {
   "cell_type": "code",
   "execution_count": null,
   "id": "8e3f21cd",
   "metadata": {},
   "outputs": [],
   "source": [
    "# Define common SMS abbreviations\n",
    "abbreviations = {\n",
    "    \"u\": \"you\",\n",
    "    \"ur\": \"your\",\n",
    "    \"btw\": \"by the way\",\n",
    "    \"idk\": \"i don't know\",\n",
    "    \"imo\": \"in my opinion\",\n",
    "    \"brb\": \"be right back\",\n",
    "    \"lol\": \"laughing out loud\",\n",
    "    \"omg\": \"oh my god\",\n",
    "    \"ttyl\": \"talk to you later\",\n",
    "    \"thx\": \"thanks\",\n",
    "    \"pls\": \"please\",\n",
    "    \"gr8\": \"great\",\n",
    "    \"b4\": \"before\",\n",
    "    \"l8r\": \"later\",\n",
    "    \"cya\": \"see you\",\n",
    "    \"np\": \"no problem\",\n",
    "    \"smh\": \"shaking my head\",\n",
    "    \"fyi\": \"for your information\",\n",
    "    \"asap\": \"as soon as possible\",\n",
    "    \"tbh\": \"to be honest\",\n",
    "    \"jk\": \"just kidding\",\n",
    "    \"rofl\": \"rolling on the floor laughing\",\n",
    "    \"wtf\": \"what the fuck\",\n",
    "    \"yolo\": \"you only live once\",\n",
    "    \"bff\": \"best friends forever\",\n",
    "    \"irl\": \"in real life\",\n",
    "    \"dm\": \"direct message\",\n",
    "    \"ftw\": \"for the win\",\n",
    "    \"fomo\": \"fear of missing out\",\n",
    "    \"tmi\": \"too much information\",\n",
    "    \"ily\": \"i love you\",\n",
    "    \"xoxo\": \"hugs and kisses\",\n",
    "    \"wyd\": \"what are you doing\",\n",
    "    \"hbu\": \"how about you\",\n",
    "    \"ikr\": \"i know right\",\n",
    "    \"nvm\": \"never mind\",\n",
    "    \"ppl\": \"people\",\n",
    "    \"sry\": \"sorry\",\n",
    "    \"ty\": \"thank you\",\n",
    "    \"yw\": \"you're welcome\",\n",
    "    \"bc\": \"because\",\n",
    "    \"cuz\": \"because\",\n",
    "    \"bday\": \"birthday\",\n",
    "    \"msg\": \"message\",\n",
    "    \"txt\": \"text\",\n",
    "    \"pic\": \"picture\",\n",
    "    \"vid\": \"video\",\n",
    "    \"atm\": \"at the moment\",\n",
    "    \"bbl\": \"be back later\",\n",
    "    \"fml\": \"fuck my life\",\n",
    "    \"tysm\": \"thank you so much\"\n",
    "}\n",
    "\n",
    "# Expand abbreviations\n",
    "def expand_abbreviations(text):\n",
    "    words = text.split()\n",
    "    expanded_words = []\n",
    "    for word in words:\n",
    "        # Check if word is an abbreviation (case insensitive)\n",
    "        if word.lower() in abbreviations:\n",
    "            expanded_words.append(abbreviations[word.lower()])\n",
    "        else:\n",
    "            expanded_words.append(word)\n",
    "    return ' '.join(expanded_words)\n",
    "\n",
    "# Apply abbreviation expansion\n",
    "X = X.apply(expand_abbreviations)\n",
    "\n",
    "# Reduce duplicate characters (e.g., \"sooooo\" -> \"so\")\n",
    "X = X.str.replace(r'(.)\\1{2,}', r'\\1\\1', regex=True)\n",
    "\n",
    "print(\"Sample messages after SMS-specific preprocessing:\")\n",
    "for i in range(3):\n",
    "    print(f\"{i+1}: {X.iloc[i]}\")"
   ]
  },
  {
   "cell_type": "markdown",
   "id": "a1bf39e3",
   "metadata": {},
   "source": [
    "### Stage 3: Advanced Linguistic Processing"
   ]
  },
  {
   "cell_type": "code",
   "execution_count": null,
   "id": "129388d4",
   "metadata": {},
   "outputs": [],
   "source": [
    "# Tokenize using BERT tokenizer (this is the key fix to avoid the previous error)\n",
    "from transformers import DistilBertTokenizer\n",
    "\n",
    "# Initialize the tokenizer\n",
    "tokenizer = DistilBertTokenizer.from_pretrained('distilbert-base-uncased')\n",
    "\n",
    "# Tokenize the text data\n",
    "def tokenize_text(texts, max_length=128):\n",
    "    \"\"\"Tokenize texts using DistilBERT tokenizer\"\"\"\n",
    "    # Ensure we're working with a list of strings\n",
    "    if isinstance(texts, pd.Series):\n",
    "        texts = texts.tolist()\n",
    "    \n",
    "    # Tokenize with truncation and padding\n",
    "    encodings = tokenizer(\n",
    "        texts,\n",
    "        truncation=True,\n",
    "        padding=True,\n",
    "        max_length=max_length,\n",
    "        return_tensors='pt'\n",
    "    )\n",
    "    \n",
    "    return encodings\n",
    "\n",
    "# Apply tokenization to our preprocessed messages\n",
    "tokenized_data = tokenize_text(X)\n",
    "\n",
    "print(\"Tokenized data keys:\", tokenized_data.keys())\n",
    "print(\"Input IDs shape:\", tokenized_data['input_ids'].shape)\n",
    "print(\"Attention mask shape:\", tokenized_data['attention_mask'].shape)\n",
    "print(\"Sample tokenized input IDs:\", tokenized_data['input_ids'][0][:10])"
   ]
  },
  {
   "cell_type": "markdown",
   "id": "26cef180",
   "metadata": {},
   "source": [
    "## Model Architecture Design"
   ]
  },
  {
   "cell_type": "code",
   "execution_count": null,
   "id": "577e23e0",
   "metadata": {},
   "outputs": [],
   "source": [
    "# Define the classification model\n",
    "import torch\n",
    "import torch.nn as nn\n",
    "\n",
    "class SpamHamClassifier(nn.Module):\n",
    "    def __init__(self, model_name='distilbert-base-uncased', num_labels=2, dropout_rate=0.3):\n",
    "        super(SpamHamClassifier, self).__init__()\n",
    "        # Load the pre-trained DistilBERT model\n",
    "        self.distilbert = DistilBertForSequenceClassification.from_pretrained(\n",
    "            model_name, \n",
    "            num_labels=num_labels,\n",
    "            hidden_dropout_prob=dropout_rate,\n",
    "            attention_probs_dropout_prob=dropout_rate\n",
    "        )\n",
    "        \n",
    "        # We'll use the classification head from DistilBERT directly\n",
    "        # But we can add additional layers if needed\n",
    "        \n",
    "    def forward(self, input_ids, attention_mask):\n",
    "        outputs = self.distilbert(input_ids=input_ids, attention_mask=attention_mask)\n",
    "        return outputs.logits\n",
    "\n",
    "# Initialize the model\n",
    "model = SpamHamClassifier()\n",
    "\n",
    "# Check device availability\n",
    "device = torch.device('cuda' if torch.cuda.is_available() else 'cpu')\n",
    "print(f\"Using device: {device}\")\n",
    "\n",
    "# Move model to device\n",
    "model = model.to(device)"
   ]
  },
  {
   "cell_type": "markdown",
   "id": "8cee84af",
   "metadata": {},
   "source": [
    "## Data Preparation and Splitting"
   ]
  },
  {
   "cell_type": "code",
   "execution_count": null,
   "id": "5b05b0a6",
   "metadata": {},
   "outputs": [],
   "source": [
    "# Prepare the dataset for training\n",
    "# Convert labels to integers\n",
    "labels = torch.tensor([1 if label == 'spam' else 0 for label in y])\n",
    "\n",
    "# Split the data into training and validation sets (70/30 split)\n",
    "train_inputs, val_inputs, train_labels, val_labels = train_test_split(\n",
    "    tokenized_data['input_ids'].numpy(),\n",
    "    labels.numpy(),\n",
    "    test_size=0.3,\n",
    "    random_state=42,\n",
    "    stratify=labels.numpy()\n",
    ")\n",
    "\n",
    "# Convert to PyTorch tensors\n",
    "train_inputs = torch.tensor(train_inputs)\n",
    "val_inputs = torch.tensor(val_inputs)\n",
    "train_labels = torch.tensor(train_labels)\n",
    "val_labels = torch.tensor(val_labels)\n",
    "\n",
    "# Create attention masks\n",
    "train_masks = torch.tensor((train_inputs != tokenizer.pad_token_id).long())\n",
    "val_masks = torch.tensor((val_inputs != tokenizer.pad_token_id).long())\n",
    "\n",
    "print(\"Training set:\")\n",
    "print(f\"  Input IDs shape: {train_inputs.shape}\")\n",
    "print(f\"  Attention masks shape: {train_masks.shape}\")\n",
    "print(f\"  Labels shape: {train_labels.shape}\")\n",
    "\n",
    "print(\"\\nValidation set:\")\n",
    "print(f\"  Input IDs shape: {val_inputs.shape}\")\n",
    "print(f\"  Attention masks shape: {val_masks.shape}\")\n",
    "print(f\"  Labels shape: {val_labels.shape}\")\n",
    "\n",
    "# Create DataLoaders\n",
    "train_dataset = TensorDataset(train_inputs, train_masks, train_labels)\n",
    "train_dataloader = DataLoader(train_dataset, batch_size=16, shuffle=True)\n",
    "\n",
    "val_dataset = TensorDataset(val_inputs, val_masks, val_labels)\n",
    "val_dataloader = DataLoader(val_dataset, batch_size=32, shuffle=False)"
   ]
  },
  {
   "cell_type": "markdown",
   "id": "83695ba2",
   "metadata": {},
   "source": [
    "# AI Solicitor: SMS Spam Detection"
   ]
  },
  {
   "cell_type": "code",
   "execution_count": 1,
   "id": "56eb696c",
   "metadata": {},
   "outputs": [
    {
     "name": "stdout",
     "output_type": "stream",
     "text": [
      "Requirement already satisfied: torch in c:\\users\\bdcalling123\\appdata\\local\\programs\\python\\python313\\lib\\site-packages (2.8.0)\n",
      "Requirement already satisfied: tensorflow in c:\\users\\bdcalling123\\appdata\\local\\programs\\python\\python313\\lib\\site-packages (2.20.0)\n",
      "Requirement already satisfied: keras in c:\\users\\bdcalling123\\appdata\\local\\programs\\python\\python313\\lib\\site-packages (3.11.3)\n",
      "Requirement already satisfied: filelock in c:\\users\\bdcalling123\\appdata\\local\\programs\\python\\python313\\lib\\site-packages (from torch) (3.19.1)\n",
      "Requirement already satisfied: typing-extensions>=4.10.0 in c:\\users\\bdcalling123\\appdata\\local\\programs\\python\\python313\\lib\\site-packages (from torch) (4.15.0)\n",
      "Requirement already satisfied: sympy>=1.13.3 in c:\\users\\bdcalling123\\appdata\\local\\programs\\python\\python313\\lib\\site-packages (from torch) (1.14.0)\n",
      "Requirement already satisfied: networkx in c:\\users\\bdcalling123\\appdata\\local\\programs\\python\\python313\\lib\\site-packages (from torch) (3.5)\n",
      "Requirement already satisfied: jinja2 in c:\\users\\bdcalling123\\appdata\\local\\programs\\python\\python313\\lib\\site-packages (from torch) (3.1.6)\n",
      "Requirement already satisfied: fsspec in c:\\users\\bdcalling123\\appdata\\local\\programs\\python\\python313\\lib\\site-packages (from torch) (2025.9.0)\n",
      "Requirement already satisfied: setuptools in c:\\users\\bdcalling123\\appdata\\local\\programs\\python\\python313\\lib\\site-packages (from torch) (80.9.0)\n",
      "Requirement already satisfied: absl-py>=1.0.0 in c:\\users\\bdcalling123\\appdata\\local\\programs\\python\\python313\\lib\\site-packages (from tensorflow) (2.3.1)\n",
      "Requirement already satisfied: astunparse>=1.6.0 in c:\\users\\bdcalling123\\appdata\\local\\programs\\python\\python313\\lib\\site-packages (from tensorflow) (1.6.3)\n",
      "Requirement already satisfied: flatbuffers>=24.3.25 in c:\\users\\bdcalling123\\appdata\\local\\programs\\python\\python313\\lib\\site-packages (from tensorflow) (25.9.23)\n",
      "Requirement already satisfied: gast!=0.5.0,!=0.5.1,!=0.5.2,>=0.2.1 in c:\\users\\bdcalling123\\appdata\\local\\programs\\python\\python313\\lib\\site-packages (from tensorflow) (0.6.0)\n",
      "Requirement already satisfied: google_pasta>=0.1.1 in c:\\users\\bdcalling123\\appdata\\local\\programs\\python\\python313\\lib\\site-packages (from tensorflow) (0.2.0)\n",
      "Requirement already satisfied: libclang>=13.0.0 in c:\\users\\bdcalling123\\appdata\\local\\programs\\python\\python313\\lib\\site-packages (from tensorflow) (18.1.1)\n",
      "Requirement already satisfied: opt_einsum>=2.3.2 in c:\\users\\bdcalling123\\appdata\\local\\programs\\python\\python313\\lib\\site-packages (from tensorflow) (3.4.0)\n",
      "Requirement already satisfied: packaging in c:\\users\\bdcalling123\\appdata\\local\\programs\\python\\python313\\lib\\site-packages (from tensorflow) (25.0)\n",
      "Requirement already satisfied: protobuf>=5.28.0 in c:\\users\\bdcalling123\\appdata\\local\\programs\\python\\python313\\lib\\site-packages (from tensorflow) (6.32.1)\n",
      "Requirement already satisfied: requests<3,>=2.21.0 in c:\\users\\bdcalling123\\appdata\\local\\programs\\python\\python313\\lib\\site-packages (from tensorflow) (2.32.5)\n",
      "Requirement already satisfied: six>=1.12.0 in c:\\users\\bdcalling123\\appdata\\local\\programs\\python\\python313\\lib\\site-packages (from tensorflow) (1.17.0)\n",
      "Requirement already satisfied: termcolor>=1.1.0 in c:\\users\\bdcalling123\\appdata\\local\\programs\\python\\python313\\lib\\site-packages (from tensorflow) (3.1.0)\n",
      "Requirement already satisfied: wrapt>=1.11.0 in c:\\users\\bdcalling123\\appdata\\local\\programs\\python\\python313\\lib\\site-packages (from tensorflow) (1.17.3)\n",
      "Requirement already satisfied: grpcio<2.0,>=1.24.3 in c:\\users\\bdcalling123\\appdata\\local\\programs\\python\\python313\\lib\\site-packages (from tensorflow) (1.75.1)\n",
      "Requirement already satisfied: tensorboard~=2.20.0 in c:\\users\\bdcalling123\\appdata\\local\\programs\\python\\python313\\lib\\site-packages (from tensorflow) (2.20.0)\n",
      "Requirement already satisfied: numpy>=1.26.0 in c:\\users\\bdcalling123\\appdata\\local\\programs\\python\\python313\\lib\\site-packages (from tensorflow) (2.3.3)\n",
      "Requirement already satisfied: h5py>=3.11.0 in c:\\users\\bdcalling123\\appdata\\local\\programs\\python\\python313\\lib\\site-packages (from tensorflow) (3.14.0)\n",
      "Requirement already satisfied: ml_dtypes<1.0.0,>=0.5.1 in c:\\users\\bdcalling123\\appdata\\local\\programs\\python\\python313\\lib\\site-packages (from tensorflow) (0.5.3)\n",
      "Requirement already satisfied: charset_normalizer<4,>=2 in c:\\users\\bdcalling123\\appdata\\local\\programs\\python\\python313\\lib\\site-packages (from requests<3,>=2.21.0->tensorflow) (3.4.3)\n",
      "Requirement already satisfied: idna<4,>=2.5 in c:\\users\\bdcalling123\\appdata\\local\\programs\\python\\python313\\lib\\site-packages (from requests<3,>=2.21.0->tensorflow) (3.10)\n",
      "Requirement already satisfied: urllib3<3,>=1.21.1 in c:\\users\\bdcalling123\\appdata\\local\\programs\\python\\python313\\lib\\site-packages (from requests<3,>=2.21.0->tensorflow) (2.5.0)\n",
      "Requirement already satisfied: certifi>=2017.4.17 in c:\\users\\bdcalling123\\appdata\\local\\programs\\python\\python313\\lib\\site-packages (from requests<3,>=2.21.0->tensorflow) (2025.8.3)\n",
      "Requirement already satisfied: markdown>=2.6.8 in c:\\users\\bdcalling123\\appdata\\local\\programs\\python\\python313\\lib\\site-packages (from tensorboard~=2.20.0->tensorflow) (3.9)\n",
      "Requirement already satisfied: pillow in c:\\users\\bdcalling123\\appdata\\local\\programs\\python\\python313\\lib\\site-packages (from tensorboard~=2.20.0->tensorflow) (11.3.0)\n",
      "Requirement already satisfied: tensorboard-data-server<0.8.0,>=0.7.0 in c:\\users\\bdcalling123\\appdata\\local\\programs\\python\\python313\\lib\\site-packages (from tensorboard~=2.20.0->tensorflow) (0.7.2)\n",
      "Requirement already satisfied: werkzeug>=1.0.1 in c:\\users\\bdcalling123\\appdata\\local\\programs\\python\\python313\\lib\\site-packages (from tensorboard~=2.20.0->tensorflow) (3.1.3)\n",
      "Requirement already satisfied: rich in c:\\users\\bdcalling123\\appdata\\local\\programs\\python\\python313\\lib\\site-packages (from keras) (14.2.0)\n",
      "Requirement already satisfied: namex in c:\\users\\bdcalling123\\appdata\\local\\programs\\python\\python313\\lib\\site-packages (from keras) (0.1.0)\n",
      "Requirement already satisfied: optree in c:\\users\\bdcalling123\\appdata\\local\\programs\\python\\python313\\lib\\site-packages (from keras) (0.17.0)\n",
      "Requirement already satisfied: wheel<1.0,>=0.23.0 in c:\\users\\bdcalling123\\appdata\\local\\programs\\python\\python313\\lib\\site-packages (from astunparse>=1.6.0->tensorflow) (0.45.1)\n",
      "Requirement already satisfied: mpmath<1.4,>=1.1.0 in c:\\users\\bdcalling123\\appdata\\local\\programs\\python\\python313\\lib\\site-packages (from sympy>=1.13.3->torch) (1.3.0)\n",
      "Requirement already satisfied: MarkupSafe>=2.1.1 in c:\\users\\bdcalling123\\appdata\\local\\programs\\python\\python313\\lib\\site-packages (from werkzeug>=1.0.1->tensorboard~=2.20.0->tensorflow) (3.0.2)\n",
      "Requirement already satisfied: markdown-it-py>=2.2.0 in c:\\users\\bdcalling123\\appdata\\local\\programs\\python\\python313\\lib\\site-packages (from rich->keras) (4.0.0)\n",
      "Requirement already satisfied: pygments<3.0.0,>=2.13.0 in c:\\users\\bdcalling123\\appdata\\local\\programs\\python\\python313\\lib\\site-packages (from rich->keras) (2.19.2)\n",
      "Requirement already satisfied: mdurl~=0.1 in c:\\users\\bdcalling123\\appdata\\local\\programs\\python\\python313\\lib\\site-packages (from markdown-it-py>=2.2.0->rich->keras) (0.1.2)\n"
     ]
    }
   ],
   "source": [
    "! pip install torch tensorflow keras"
   ]
  },
  {
   "cell_type": "code",
   "execution_count": 2,
   "id": "799abaf2",
   "metadata": {},
   "outputs": [
    {
     "name": "stdout",
     "output_type": "stream",
     "text": [
      "Requirement already satisfied: matplotlib in c:\\users\\bdcalling123\\appdata\\local\\programs\\python\\python313\\lib\\site-packages (3.10.7)\n",
      "Requirement already satisfied: contourpy>=1.0.1 in c:\\users\\bdcalling123\\appdata\\local\\programs\\python\\python313\\lib\\site-packages (from matplotlib) (1.3.3)\n",
      "Requirement already satisfied: cycler>=0.10 in c:\\users\\bdcalling123\\appdata\\local\\programs\\python\\python313\\lib\\site-packages (from matplotlib) (0.12.1)\n",
      "Requirement already satisfied: fonttools>=4.22.0 in c:\\users\\bdcalling123\\appdata\\local\\programs\\python\\python313\\lib\\site-packages (from matplotlib) (4.60.1)\n",
      "Requirement already satisfied: kiwisolver>=1.3.1 in c:\\users\\bdcalling123\\appdata\\local\\programs\\python\\python313\\lib\\site-packages (from matplotlib) (1.4.9)\n",
      "Requirement already satisfied: numpy>=1.23 in c:\\users\\bdcalling123\\appdata\\local\\programs\\python\\python313\\lib\\site-packages (from matplotlib) (2.3.3)\n",
      "Requirement already satisfied: packaging>=20.0 in c:\\users\\bdcalling123\\appdata\\local\\programs\\python\\python313\\lib\\site-packages (from matplotlib) (25.0)\n",
      "Requirement already satisfied: pillow>=8 in c:\\users\\bdcalling123\\appdata\\local\\programs\\python\\python313\\lib\\site-packages (from matplotlib) (11.3.0)\n",
      "Requirement already satisfied: pyparsing>=3 in c:\\users\\bdcalling123\\appdata\\local\\programs\\python\\python313\\lib\\site-packages (from matplotlib) (3.2.5)\n",
      "Requirement already satisfied: python-dateutil>=2.7 in c:\\users\\bdcalling123\\appdata\\local\\programs\\python\\python313\\lib\\site-packages (from matplotlib) (2.9.0.post0)\n",
      "Requirement already satisfied: six>=1.5 in c:\\users\\bdcalling123\\appdata\\local\\programs\\python\\python313\\lib\\site-packages (from python-dateutil>=2.7->matplotlib) (1.17.0)\n"
     ]
    }
   ],
   "source": [
    "! pip install matplotlib"
   ]
  },
  {
   "cell_type": "code",
   "execution_count": 3,
   "id": "4a0c1288",
   "metadata": {},
   "outputs": [
    {
     "name": "stdout",
     "output_type": "stream",
     "text": [
      "Requirement already satisfied: nltk in c:\\users\\bdcalling123\\appdata\\local\\programs\\python\\python313\\lib\\site-packages (3.9.2)\n",
      "Requirement already satisfied: click in c:\\users\\bdcalling123\\appdata\\local\\programs\\python\\python313\\lib\\site-packages (from nltk) (8.2.1)\n",
      "Requirement already satisfied: joblib in c:\\users\\bdcalling123\\appdata\\local\\programs\\python\\python313\\lib\\site-packages (from nltk) (1.5.2)\n",
      "Requirement already satisfied: regex>=2021.8.3 in c:\\users\\bdcalling123\\appdata\\local\\programs\\python\\python313\\lib\\site-packages (from nltk) (2025.9.18)\n",
      "Requirement already satisfied: tqdm in c:\\users\\bdcalling123\\appdata\\local\\programs\\python\\python313\\lib\\site-packages (from nltk) (4.67.1)\n",
      "Requirement already satisfied: colorama in c:\\users\\bdcalling123\\appdata\\local\\programs\\python\\python313\\lib\\site-packages (from click->nltk) (0.4.6)\n"
     ]
    }
   ],
   "source": [
    "! pip install nltk"
   ]
  },
  {
   "cell_type": "code",
   "execution_count": 4,
   "id": "56eb9005",
   "metadata": {},
   "outputs": [
    {
     "name": "stdout",
     "output_type": "stream",
     "text": [
      "Requirement already satisfied: scikit-learn in c:\\users\\bdcalling123\\appdata\\local\\programs\\python\\python313\\lib\\site-packages (1.7.2)\n",
      "Requirement already satisfied: numpy>=1.22.0 in c:\\users\\bdcalling123\\appdata\\local\\programs\\python\\python313\\lib\\site-packages (from scikit-learn) (2.3.3)\n",
      "Requirement already satisfied: scipy>=1.8.0 in c:\\users\\bdcalling123\\appdata\\local\\programs\\python\\python313\\lib\\site-packages (from scikit-learn) (1.16.2)\n",
      "Requirement already satisfied: joblib>=1.2.0 in c:\\users\\bdcalling123\\appdata\\local\\programs\\python\\python313\\lib\\site-packages (from scikit-learn) (1.5.2)\n",
      "Requirement already satisfied: threadpoolctl>=3.1.0 in c:\\users\\bdcalling123\\appdata\\local\\programs\\python\\python313\\lib\\site-packages (from scikit-learn) (3.6.0)\n"
     ]
    }
   ],
   "source": [
    "! pip install scikit-learn"
   ]
  },
  {
   "cell_type": "code",
   "execution_count": 5,
   "id": "aca521cd",
   "metadata": {},
   "outputs": [
    {
     "name": "stdout",
     "output_type": "stream",
     "text": [
      "Requirement already satisfied: imblearn in c:\\users\\bdcalling123\\appdata\\local\\programs\\python\\python313\\lib\\site-packages (0.0)\n",
      "Requirement already satisfied: imbalanced-learn in c:\\users\\bdcalling123\\appdata\\local\\programs\\python\\python313\\lib\\site-packages (from imblearn) (0.14.0)\n",
      "Requirement already satisfied: numpy<3,>=1.25.2 in c:\\users\\bdcalling123\\appdata\\local\\programs\\python\\python313\\lib\\site-packages (from imbalanced-learn->imblearn) (2.3.3)\n",
      "Requirement already satisfied: scipy<2,>=1.11.4 in c:\\users\\bdcalling123\\appdata\\local\\programs\\python\\python313\\lib\\site-packages (from imbalanced-learn->imblearn) (1.16.2)\n",
      "Requirement already satisfied: scikit-learn<2,>=1.4.2 in c:\\users\\bdcalling123\\appdata\\local\\programs\\python\\python313\\lib\\site-packages (from imbalanced-learn->imblearn) (1.7.2)\n",
      "Requirement already satisfied: joblib<2,>=1.2.0 in c:\\users\\bdcalling123\\appdata\\local\\programs\\python\\python313\\lib\\site-packages (from imbalanced-learn->imblearn) (1.5.2)\n",
      "Requirement already satisfied: threadpoolctl<4,>=2.0.0 in c:\\users\\bdcalling123\\appdata\\local\\programs\\python\\python313\\lib\\site-packages (from imbalanced-learn->imblearn) (3.6.0)\n"
     ]
    }
   ],
   "source": [
    "! pip install imblearn"
   ]
  },
  {
   "cell_type": "code",
   "execution_count": 6,
   "id": "884844a9",
   "metadata": {},
   "outputs": [
    {
     "name": "stdout",
     "output_type": "stream",
     "text": [
      "Requirement already satisfied: wordcloud in c:\\users\\bdcalling123\\appdata\\local\\programs\\python\\python313\\lib\\site-packages (1.9.4)\n",
      "Requirement already satisfied: numpy>=1.6.1 in c:\\users\\bdcalling123\\appdata\\local\\programs\\python\\python313\\lib\\site-packages (from wordcloud) (2.3.3)\n",
      "Requirement already satisfied: pillow in c:\\users\\bdcalling123\\appdata\\local\\programs\\python\\python313\\lib\\site-packages (from wordcloud) (11.3.0)\n",
      "Requirement already satisfied: matplotlib in c:\\users\\bdcalling123\\appdata\\local\\programs\\python\\python313\\lib\\site-packages (from wordcloud) (3.10.7)\n",
      "Requirement already satisfied: contourpy>=1.0.1 in c:\\users\\bdcalling123\\appdata\\local\\programs\\python\\python313\\lib\\site-packages (from matplotlib->wordcloud) (1.3.3)\n",
      "Requirement already satisfied: cycler>=0.10 in c:\\users\\bdcalling123\\appdata\\local\\programs\\python\\python313\\lib\\site-packages (from matplotlib->wordcloud) (0.12.1)\n",
      "Requirement already satisfied: fonttools>=4.22.0 in c:\\users\\bdcalling123\\appdata\\local\\programs\\python\\python313\\lib\\site-packages (from matplotlib->wordcloud) (4.60.1)\n",
      "Requirement already satisfied: kiwisolver>=1.3.1 in c:\\users\\bdcalling123\\appdata\\local\\programs\\python\\python313\\lib\\site-packages (from matplotlib->wordcloud) (1.4.9)\n",
      "Requirement already satisfied: packaging>=20.0 in c:\\users\\bdcalling123\\appdata\\local\\programs\\python\\python313\\lib\\site-packages (from matplotlib->wordcloud) (25.0)\n",
      "Requirement already satisfied: pyparsing>=3 in c:\\users\\bdcalling123\\appdata\\local\\programs\\python\\python313\\lib\\site-packages (from matplotlib->wordcloud) (3.2.5)\n",
      "Requirement already satisfied: python-dateutil>=2.7 in c:\\users\\bdcalling123\\appdata\\local\\programs\\python\\python313\\lib\\site-packages (from matplotlib->wordcloud) (2.9.0.post0)\n",
      "Requirement already satisfied: six>=1.5 in c:\\users\\bdcalling123\\appdata\\local\\programs\\python\\python313\\lib\\site-packages (from python-dateutil>=2.7->matplotlib->wordcloud) (1.17.0)\n"
     ]
    }
   ],
   "source": [
    "! pip install wordcloud"
   ]
  },
  {
   "cell_type": "code",
   "execution_count": 7,
   "id": "4db87bc1",
   "metadata": {},
   "outputs": [
    {
     "name": "stdout",
     "output_type": "stream",
     "text": [
      "Requirement already satisfied: seaborn in c:\\users\\bdcalling123\\appdata\\local\\programs\\python\\python313\\lib\\site-packages (0.13.2)\n",
      "Requirement already satisfied: numpy!=1.24.0,>=1.20 in c:\\users\\bdcalling123\\appdata\\local\\programs\\python\\python313\\lib\\site-packages (from seaborn) (2.3.3)\n",
      "Requirement already satisfied: pandas>=1.2 in c:\\users\\bdcalling123\\appdata\\local\\programs\\python\\python313\\lib\\site-packages (from seaborn) (2.3.2)\n",
      "Requirement already satisfied: matplotlib!=3.6.1,>=3.4 in c:\\users\\bdcalling123\\appdata\\local\\programs\\python\\python313\\lib\\site-packages (from seaborn) (3.10.7)\n",
      "Requirement already satisfied: contourpy>=1.0.1 in c:\\users\\bdcalling123\\appdata\\local\\programs\\python\\python313\\lib\\site-packages (from matplotlib!=3.6.1,>=3.4->seaborn) (1.3.3)\n",
      "Requirement already satisfied: cycler>=0.10 in c:\\users\\bdcalling123\\appdata\\local\\programs\\python\\python313\\lib\\site-packages (from matplotlib!=3.6.1,>=3.4->seaborn) (0.12.1)\n",
      "Requirement already satisfied: fonttools>=4.22.0 in c:\\users\\bdcalling123\\appdata\\local\\programs\\python\\python313\\lib\\site-packages (from matplotlib!=3.6.1,>=3.4->seaborn) (4.60.1)\n",
      "Requirement already satisfied: kiwisolver>=1.3.1 in c:\\users\\bdcalling123\\appdata\\local\\programs\\python\\python313\\lib\\site-packages (from matplotlib!=3.6.1,>=3.4->seaborn) (1.4.9)\n",
      "Requirement already satisfied: packaging>=20.0 in c:\\users\\bdcalling123\\appdata\\local\\programs\\python\\python313\\lib\\site-packages (from matplotlib!=3.6.1,>=3.4->seaborn) (25.0)\n",
      "Requirement already satisfied: pillow>=8 in c:\\users\\bdcalling123\\appdata\\local\\programs\\python\\python313\\lib\\site-packages (from matplotlib!=3.6.1,>=3.4->seaborn) (11.3.0)\n",
      "Requirement already satisfied: pyparsing>=3 in c:\\users\\bdcalling123\\appdata\\local\\programs\\python\\python313\\lib\\site-packages (from matplotlib!=3.6.1,>=3.4->seaborn) (3.2.5)\n",
      "Requirement already satisfied: python-dateutil>=2.7 in c:\\users\\bdcalling123\\appdata\\local\\programs\\python\\python313\\lib\\site-packages (from matplotlib!=3.6.1,>=3.4->seaborn) (2.9.0.post0)\n",
      "Requirement already satisfied: pytz>=2020.1 in c:\\users\\bdcalling123\\appdata\\local\\programs\\python\\python313\\lib\\site-packages (from pandas>=1.2->seaborn) (2025.2)\n",
      "Requirement already satisfied: tzdata>=2022.7 in c:\\users\\bdcalling123\\appdata\\local\\programs\\python\\python313\\lib\\site-packages (from pandas>=1.2->seaborn) (2025.2)\n",
      "Requirement already satisfied: six>=1.5 in c:\\users\\bdcalling123\\appdata\\local\\programs\\python\\python313\\lib\\site-packages (from python-dateutil>=2.7->matplotlib!=3.6.1,>=3.4->seaborn) (1.17.0)\n"
     ]
    }
   ],
   "source": [
    "! pip install seaborn"
   ]
  },
  {
   "cell_type": "code",
   "execution_count": 8,
   "id": "e28e5e05",
   "metadata": {},
   "outputs": [
    {
     "name": "stdout",
     "output_type": "stream",
     "text": [
      "Requirement already satisfied: textblob in c:\\users\\bdcalling123\\appdata\\local\\programs\\python\\python313\\lib\\site-packages (0.19.0)\n",
      "Requirement already satisfied: nltk>=3.9 in c:\\users\\bdcalling123\\appdata\\local\\programs\\python\\python313\\lib\\site-packages (from textblob) (3.9.2)\n",
      "Requirement already satisfied: click in c:\\users\\bdcalling123\\appdata\\local\\programs\\python\\python313\\lib\\site-packages (from nltk>=3.9->textblob) (8.2.1)\n",
      "Requirement already satisfied: joblib in c:\\users\\bdcalling123\\appdata\\local\\programs\\python\\python313\\lib\\site-packages (from nltk>=3.9->textblob) (1.5.2)\n",
      "Requirement already satisfied: regex>=2021.8.3 in c:\\users\\bdcalling123\\appdata\\local\\programs\\python\\python313\\lib\\site-packages (from nltk>=3.9->textblob) (2025.9.18)\n",
      "Requirement already satisfied: tqdm in c:\\users\\bdcalling123\\appdata\\local\\programs\\python\\python313\\lib\\site-packages (from nltk>=3.9->textblob) (4.67.1)\n",
      "Requirement already satisfied: colorama in c:\\users\\bdcalling123\\appdata\\local\\programs\\python\\python313\\lib\\site-packages (from click->nltk>=3.9->textblob) (0.4.6)\n"
     ]
    }
   ],
   "source": [
    "! pip install textblob"
   ]
  },
  {
   "cell_type": "code",
   "execution_count": 9,
   "id": "22d1cf34",
   "metadata": {},
   "outputs": [
    {
     "name": "stdout",
     "output_type": "stream",
     "text": [
      "Requirement already satisfied: transformers in c:\\users\\bdcalling123\\appdata\\local\\programs\\python\\python313\\lib\\site-packages (4.57.0)\n",
      "Requirement already satisfied: filelock in c:\\users\\bdcalling123\\appdata\\local\\programs\\python\\python313\\lib\\site-packages (from transformers) (3.19.1)\n",
      "Requirement already satisfied: huggingface-hub<1.0,>=0.34.0 in c:\\users\\bdcalling123\\appdata\\local\\programs\\python\\python313\\lib\\site-packages (from transformers) (0.35.3)\n",
      "Requirement already satisfied: numpy>=1.17 in c:\\users\\bdcalling123\\appdata\\local\\programs\\python\\python313\\lib\\site-packages (from transformers) (2.3.3)\n",
      "Requirement already satisfied: packaging>=20.0 in c:\\users\\bdcalling123\\appdata\\local\\programs\\python\\python313\\lib\\site-packages (from transformers) (25.0)\n",
      "Requirement already satisfied: pyyaml>=5.1 in c:\\users\\bdcalling123\\appdata\\local\\programs\\python\\python313\\lib\\site-packages (from transformers) (6.0.2)\n",
      "Requirement already satisfied: regex!=2019.12.17 in c:\\users\\bdcalling123\\appdata\\local\\programs\\python\\python313\\lib\\site-packages (from transformers) (2025.9.18)\n",
      "Requirement already satisfied: requests in c:\\users\\bdcalling123\\appdata\\local\\programs\\python\\python313\\lib\\site-packages (from transformers) (2.32.5)\n",
      "Requirement already satisfied: tokenizers<=0.23.0,>=0.22.0 in c:\\users\\bdcalling123\\appdata\\local\\programs\\python\\python313\\lib\\site-packages (from transformers) (0.22.1)\n",
      "Requirement already satisfied: safetensors>=0.4.3 in c:\\users\\bdcalling123\\appdata\\local\\programs\\python\\python313\\lib\\site-packages (from transformers) (0.6.2)\n",
      "Requirement already satisfied: tqdm>=4.27 in c:\\users\\bdcalling123\\appdata\\local\\programs\\python\\python313\\lib\\site-packages (from transformers) (4.67.1)\n",
      "Requirement already satisfied: fsspec>=2023.5.0 in c:\\users\\bdcalling123\\appdata\\local\\programs\\python\\python313\\lib\\site-packages (from huggingface-hub<1.0,>=0.34.0->transformers) (2025.9.0)\n",
      "Requirement already satisfied: typing-extensions>=3.7.4.3 in c:\\users\\bdcalling123\\appdata\\local\\programs\\python\\python313\\lib\\site-packages (from huggingface-hub<1.0,>=0.34.0->transformers) (4.15.0)\n",
      "Requirement already satisfied: colorama in c:\\users\\bdcalling123\\appdata\\local\\programs\\python\\python313\\lib\\site-packages (from tqdm>=4.27->transformers) (0.4.6)\n",
      "Requirement already satisfied: charset_normalizer<4,>=2 in c:\\users\\bdcalling123\\appdata\\local\\programs\\python\\python313\\lib\\site-packages (from requests->transformers) (3.4.3)\n",
      "Requirement already satisfied: idna<4,>=2.5 in c:\\users\\bdcalling123\\appdata\\local\\programs\\python\\python313\\lib\\site-packages (from requests->transformers) (3.10)\n",
      "Requirement already satisfied: urllib3<3,>=1.21.1 in c:\\users\\bdcalling123\\appdata\\local\\programs\\python\\python313\\lib\\site-packages (from requests->transformers) (2.5.0)\n",
      "Requirement already satisfied: certifi>=2017.4.17 in c:\\users\\bdcalling123\\appdata\\local\\programs\\python\\python313\\lib\\site-packages (from requests->transformers) (2025.8.3)\n"
     ]
    }
   ],
   "source": [
    "! pip install transformers"
   ]
  },
  {
   "cell_type": "markdown",
   "id": "c597f033",
   "metadata": {},
   "source": [
    "# Importing Libraries"
   ]
  },
  {
   "cell_type": "code",
   "execution_count": 10,
   "id": "3293e4d4",
   "metadata": {},
   "outputs": [],
   "source": [
    "import pandas as pd\n",
    "import numpy as np\n",
    "import matplotlib.pyplot as plt"
   ]
  },
  {
   "cell_type": "markdown",
   "id": "98e14818",
   "metadata": {},
   "source": [
    "# Exploratory data Analysis"
   ]
  },
  {
   "cell_type": "code",
   "execution_count": 11,
   "id": "6d6f775b",
   "metadata": {},
   "outputs": [
    {
     "name": "stdout",
     "output_type": "stream",
     "text": [
      "Requirement already satisfied: wordcloud in c:\\users\\bdcalling123\\appdata\\local\\programs\\python\\python313\\lib\\site-packages (1.9.4)\n",
      "Requirement already satisfied: numpy>=1.6.1 in c:\\users\\bdcalling123\\appdata\\local\\programs\\python\\python313\\lib\\site-packages (from wordcloud) (2.3.3)\n",
      "Requirement already satisfied: pillow in c:\\users\\bdcalling123\\appdata\\local\\programs\\python\\python313\\lib\\site-packages (from wordcloud) (11.3.0)\n",
      "Requirement already satisfied: matplotlib in c:\\users\\bdcalling123\\appdata\\local\\programs\\python\\python313\\lib\\site-packages (from wordcloud) (3.10.7)\n",
      "Requirement already satisfied: contourpy>=1.0.1 in c:\\users\\bdcalling123\\appdata\\local\\programs\\python\\python313\\lib\\site-packages (from matplotlib->wordcloud) (1.3.3)\n",
      "Requirement already satisfied: cycler>=0.10 in c:\\users\\bdcalling123\\appdata\\local\\programs\\python\\python313\\lib\\site-packages (from matplotlib->wordcloud) (0.12.1)\n",
      "Requirement already satisfied: fonttools>=4.22.0 in c:\\users\\bdcalling123\\appdata\\local\\programs\\python\\python313\\lib\\site-packages (from matplotlib->wordcloud) (4.60.1)\n",
      "Requirement already satisfied: kiwisolver>=1.3.1 in c:\\users\\bdcalling123\\appdata\\local\\programs\\python\\python313\\lib\\site-packages (from matplotlib->wordcloud) (1.4.9)\n",
      "Requirement already satisfied: packaging>=20.0 in c:\\users\\bdcalling123\\appdata\\local\\programs\\python\\python313\\lib\\site-packages (from matplotlib->wordcloud) (25.0)\n",
      "Requirement already satisfied: pyparsing>=3 in c:\\users\\bdcalling123\\appdata\\local\\programs\\python\\python313\\lib\\site-packages (from matplotlib->wordcloud) (3.2.5)\n",
      "Requirement already satisfied: python-dateutil>=2.7 in c:\\users\\bdcalling123\\appdata\\local\\programs\\python\\python313\\lib\\site-packages (from matplotlib->wordcloud) (2.9.0.post0)\n",
      "Requirement already satisfied: six>=1.5 in c:\\users\\bdcalling123\\appdata\\local\\programs\\python\\python313\\lib\\site-packages (from python-dateutil>=2.7->matplotlib->wordcloud) (1.17.0)\n"
     ]
    }
   ],
   "source": [
    "! pip install wordcloud"
   ]
  },
  {
   "cell_type": "markdown",
   "id": "df5a8ed9",
   "metadata": {},
   "source": [
    "### High Level Data Inspection"
   ]
  },
  {
   "cell_type": "code",
   "execution_count": 12,
   "id": "f93df2e2",
   "metadata": {},
   "outputs": [
    {
     "name": "stdout",
     "output_type": "stream",
     "text": [
      "Requirement already satisfied: seaborn in c:\\users\\bdcalling123\\appdata\\local\\programs\\python\\python313\\lib\\site-packages (0.13.2)\n",
      "Requirement already satisfied: numpy!=1.24.0,>=1.20 in c:\\users\\bdcalling123\\appdata\\local\\programs\\python\\python313\\lib\\site-packages (from seaborn) (2.3.3)\n",
      "Requirement already satisfied: pandas>=1.2 in c:\\users\\bdcalling123\\appdata\\local\\programs\\python\\python313\\lib\\site-packages (from seaborn) (2.3.2)\n",
      "Requirement already satisfied: matplotlib!=3.6.1,>=3.4 in c:\\users\\bdcalling123\\appdata\\local\\programs\\python\\python313\\lib\\site-packages (from seaborn) (3.10.7)\n",
      "Requirement already satisfied: contourpy>=1.0.1 in c:\\users\\bdcalling123\\appdata\\local\\programs\\python\\python313\\lib\\site-packages (from matplotlib!=3.6.1,>=3.4->seaborn) (1.3.3)\n",
      "Requirement already satisfied: cycler>=0.10 in c:\\users\\bdcalling123\\appdata\\local\\programs\\python\\python313\\lib\\site-packages (from matplotlib!=3.6.1,>=3.4->seaborn) (0.12.1)\n",
      "Requirement already satisfied: fonttools>=4.22.0 in c:\\users\\bdcalling123\\appdata\\local\\programs\\python\\python313\\lib\\site-packages (from matplotlib!=3.6.1,>=3.4->seaborn) (4.60.1)\n",
      "Requirement already satisfied: kiwisolver>=1.3.1 in c:\\users\\bdcalling123\\appdata\\local\\programs\\python\\python313\\lib\\site-packages (from matplotlib!=3.6.1,>=3.4->seaborn) (1.4.9)\n",
      "Requirement already satisfied: packaging>=20.0 in c:\\users\\bdcalling123\\appdata\\local\\programs\\python\\python313\\lib\\site-packages (from matplotlib!=3.6.1,>=3.4->seaborn) (25.0)\n",
      "Requirement already satisfied: pillow>=8 in c:\\users\\bdcalling123\\appdata\\local\\programs\\python\\python313\\lib\\site-packages (from matplotlib!=3.6.1,>=3.4->seaborn) (11.3.0)\n",
      "Requirement already satisfied: pyparsing>=3 in c:\\users\\bdcalling123\\appdata\\local\\programs\\python\\python313\\lib\\site-packages (from matplotlib!=3.6.1,>=3.4->seaborn) (3.2.5)\n",
      "Requirement already satisfied: python-dateutil>=2.7 in c:\\users\\bdcalling123\\appdata\\local\\programs\\python\\python313\\lib\\site-packages (from matplotlib!=3.6.1,>=3.4->seaborn) (2.9.0.post0)\n",
      "Requirement already satisfied: pytz>=2020.1 in c:\\users\\bdcalling123\\appdata\\local\\programs\\python\\python313\\lib\\site-packages (from pandas>=1.2->seaborn) (2025.2)\n",
      "Requirement already satisfied: tzdata>=2022.7 in c:\\users\\bdcalling123\\appdata\\local\\programs\\python\\python313\\lib\\site-packages (from pandas>=1.2->seaborn) (2025.2)\n",
      "Requirement already satisfied: six>=1.5 in c:\\users\\bdcalling123\\appdata\\local\\programs\\python\\python313\\lib\\site-packages (from python-dateutil>=2.7->matplotlib!=3.6.1,>=3.4->seaborn) (1.17.0)\n"
     ]
    }
   ],
   "source": [
    "! pip install seaborn"
   ]
  },
  {
   "cell_type": "code",
   "execution_count": 13,
   "id": "eee581f6",
   "metadata": {},
   "outputs": [
    {
     "name": "stderr",
     "output_type": "stream",
     "text": [
      "<>:1: SyntaxWarning: invalid escape sequence '\\s'\n",
      "<>:1: SyntaxWarning: invalid escape sequence '\\s'\n",
      "C:\\Users\\bdcalling123\\AppData\\Local\\Temp\\ipykernel_25044\\713980814.py:1: SyntaxWarning: invalid escape sequence '\\s'\n",
      "  dataset1 = pd.read_csv(\"Datasets\\spam (1).csv\", encoding='latin1')\n"
     ]
    },
    {
     "data": {
      "text/html": [
       "<div>\n",
       "<style scoped>\n",
       "    .dataframe tbody tr th:only-of-type {\n",
       "        vertical-align: middle;\n",
       "    }\n",
       "\n",
       "    .dataframe tbody tr th {\n",
       "        vertical-align: top;\n",
       "    }\n",
       "\n",
       "    .dataframe thead th {\n",
       "        text-align: right;\n",
       "    }\n",
       "</style>\n",
       "<table border=\"1\" class=\"dataframe\">\n",
       "  <thead>\n",
       "    <tr style=\"text-align: right;\">\n",
       "      <th></th>\n",
       "      <th>v1</th>\n",
       "      <th>v2</th>\n",
       "      <th>Unnamed: 2</th>\n",
       "      <th>Unnamed: 3</th>\n",
       "      <th>Unnamed: 4</th>\n",
       "    </tr>\n",
       "  </thead>\n",
       "  <tbody>\n",
       "    <tr>\n",
       "      <th>0</th>\n",
       "      <td>ham</td>\n",
       "      <td>Go until jurong point, crazy.. Available only ...</td>\n",
       "      <td>NaN</td>\n",
       "      <td>NaN</td>\n",
       "      <td>NaN</td>\n",
       "    </tr>\n",
       "    <tr>\n",
       "      <th>1</th>\n",
       "      <td>ham</td>\n",
       "      <td>Ok lar... Joking wif u oni...</td>\n",
       "      <td>NaN</td>\n",
       "      <td>NaN</td>\n",
       "      <td>NaN</td>\n",
       "    </tr>\n",
       "    <tr>\n",
       "      <th>2</th>\n",
       "      <td>spam</td>\n",
       "      <td>Free entry in 2 a wkly comp to win FA Cup fina...</td>\n",
       "      <td>NaN</td>\n",
       "      <td>NaN</td>\n",
       "      <td>NaN</td>\n",
       "    </tr>\n",
       "    <tr>\n",
       "      <th>3</th>\n",
       "      <td>ham</td>\n",
       "      <td>U dun say so early hor... U c already then say...</td>\n",
       "      <td>NaN</td>\n",
       "      <td>NaN</td>\n",
       "      <td>NaN</td>\n",
       "    </tr>\n",
       "    <tr>\n",
       "      <th>4</th>\n",
       "      <td>ham</td>\n",
       "      <td>Nah I don't think he goes to usf, he lives aro...</td>\n",
       "      <td>NaN</td>\n",
       "      <td>NaN</td>\n",
       "      <td>NaN</td>\n",
       "    </tr>\n",
       "  </tbody>\n",
       "</table>\n",
       "</div>"
      ],
      "text/plain": [
       "     v1                                                 v2 Unnamed: 2  \\\n",
       "0   ham  Go until jurong point, crazy.. Available only ...        NaN   \n",
       "1   ham                      Ok lar... Joking wif u oni...        NaN   \n",
       "2  spam  Free entry in 2 a wkly comp to win FA Cup fina...        NaN   \n",
       "3   ham  U dun say so early hor... U c already then say...        NaN   \n",
       "4   ham  Nah I don't think he goes to usf, he lives aro...        NaN   \n",
       "\n",
       "  Unnamed: 3 Unnamed: 4  \n",
       "0        NaN        NaN  \n",
       "1        NaN        NaN  \n",
       "2        NaN        NaN  \n",
       "3        NaN        NaN  \n",
       "4        NaN        NaN  "
      ]
     },
     "execution_count": 13,
     "metadata": {},
     "output_type": "execute_result"
    }
   ],
   "source": [
    "dataset1 = pd.read_csv(\"Datasets\\spam (1).csv\", encoding='latin1')\n",
    "dataset1.head()"
   ]
  },
  {
   "cell_type": "code",
   "execution_count": 14,
   "id": "5481d0c7",
   "metadata": {},
   "outputs": [
    {
     "data": {
      "text/plain": [
       "(5572, 5)"
      ]
     },
     "execution_count": 14,
     "metadata": {},
     "output_type": "execute_result"
    }
   ],
   "source": [
    "dataset1.shape"
   ]
  },
  {
   "cell_type": "code",
   "execution_count": 15,
   "id": "140db4cb",
   "metadata": {},
   "outputs": [
    {
     "data": {
      "text/html": [
       "<div>\n",
       "<style scoped>\n",
       "    .dataframe tbody tr th:only-of-type {\n",
       "        vertical-align: middle;\n",
       "    }\n",
       "\n",
       "    .dataframe tbody tr th {\n",
       "        vertical-align: top;\n",
       "    }\n",
       "\n",
       "    .dataframe thead th {\n",
       "        text-align: right;\n",
       "    }\n",
       "</style>\n",
       "<table border=\"1\" class=\"dataframe\">\n",
       "  <thead>\n",
       "    <tr style=\"text-align: right;\">\n",
       "      <th></th>\n",
       "      <th>v1</th>\n",
       "      <th>v2</th>\n",
       "    </tr>\n",
       "  </thead>\n",
       "  <tbody>\n",
       "    <tr>\n",
       "      <th>0</th>\n",
       "      <td>ham</td>\n",
       "      <td>Go until jurong point, crazy.. Available only ...</td>\n",
       "    </tr>\n",
       "    <tr>\n",
       "      <th>1</th>\n",
       "      <td>ham</td>\n",
       "      <td>Ok lar... Joking wif u oni...</td>\n",
       "    </tr>\n",
       "    <tr>\n",
       "      <th>2</th>\n",
       "      <td>spam</td>\n",
       "      <td>Free entry in 2 a wkly comp to win FA Cup fina...</td>\n",
       "    </tr>\n",
       "    <tr>\n",
       "      <th>3</th>\n",
       "      <td>ham</td>\n",
       "      <td>U dun say so early hor... U c already then say...</td>\n",
       "    </tr>\n",
       "    <tr>\n",
       "      <th>4</th>\n",
       "      <td>ham</td>\n",
       "      <td>Nah I don't think he goes to usf, he lives aro...</td>\n",
       "    </tr>\n",
       "  </tbody>\n",
       "</table>\n",
       "</div>"
      ],
      "text/plain": [
       "     v1                                                 v2\n",
       "0   ham  Go until jurong point, crazy.. Available only ...\n",
       "1   ham                      Ok lar... Joking wif u oni...\n",
       "2  spam  Free entry in 2 a wkly comp to win FA Cup fina...\n",
       "3   ham  U dun say so early hor... U c already then say...\n",
       "4   ham  Nah I don't think he goes to usf, he lives aro..."
      ]
     },
     "execution_count": 15,
     "metadata": {},
     "output_type": "execute_result"
    }
   ],
   "source": [
    "# delete unnecessary columns\n",
    "dataset1 = dataset1.drop(columns=['Unnamed: 2', 'Unnamed: 3', 'Unnamed: 4'])\n",
    "dataset1.head()"
   ]
  },
  {
   "cell_type": "code",
   "execution_count": 16,
   "id": "e8e7eb45",
   "metadata": {},
   "outputs": [
    {
     "data": {
      "image/png": "[encoded data removed]",
      "text/plain": [
       "<Figure size 640x480 with 1 Axes>"
      ]
     },
     "metadata": {},
     "output_type": "display_data"
    }
   ],
   "source": [
    "# class distribution analysis\n",
    "dataset1['v1'].value_counts().plot(kind='bar')\n",
    "plt.show()"
   ]
  },
  {
   "cell_type": "code",
   "execution_count": 17,
   "id": "89e849b5",
   "metadata": {},
   "outputs": [
    {
     "data": {
      "image/png": "[encoded data removed]",
      "text/plain": [
       "<Figure size 640x480 with 1 Axes>"
      ]
     },
     "metadata": {},
     "output_type": "display_data"
    }
   ],
   "source": [
    "# MSG length analysis\n",
    "dataset1['length'] = dataset1['v2'].apply(len)\n",
    "dataset1['length'].plot(bins=50, kind='hist')\n",
    "plt.show()"
   ]
  },
  {
   "cell_type": "code",
   "execution_count": 18,
   "id": "d7b3a156",
   "metadata": {},
   "outputs": [
    {
     "data": {
      "text/plain": [
       "v1        0\n",
       "v2        0\n",
       "length    0\n",
       "dtype: int64"
      ]
     },
     "execution_count": 18,
     "metadata": {},
     "output_type": "execute_result"
    }
   ],
   "source": [
    "# handle missing values\n",
    "dataset1.isnull().sum()"
   ]
  },
  {
   "cell_type": "code",
   "execution_count": 19,
   "id": "96f8acd2",
   "metadata": {},
   "outputs": [
    {
     "data": {
      "text/plain": [
       "v1        object\n",
       "v2        object\n",
       "length     int64\n",
       "dtype: object"
      ]
     },
     "execution_count": 19,
     "metadata": {},
     "output_type": "execute_result"
    }
   ],
   "source": [
    "# examine data types\n",
    "dataset1.dtypes"
   ]
  },
  {
   "cell_type": "code",
   "execution_count": 20,
   "id": "711f802d",
   "metadata": {},
   "outputs": [
    {
     "name": "stdout",
     "output_type": "stream",
     "text": [
      "Accuracy: 0.9730941704035875\n"
     ]
    }
   ],
   "source": [
    "# use SMOTE to handle class imbalance\n",
    "from sklearn.model_selection import train_test_split\n",
    "from sklearn.feature_extraction.text import CountVectorizer\n",
    "from sklearn.naive_bayes import MultinomialNB\n",
    "from sklearn.metrics import accuracy_score, confusion_matrix, classification_report\n",
    "from imblearn.over_sampling import SMOTE\n",
    "X = dataset1['v2']\n",
    "y = dataset1['v1']  \n",
    "X_train, X_test, y_train, y_test = train_test_split(X, y, test_size=0.2, random_state=42)\n",
    "vectorizer = CountVectorizer()\n",
    "X_train_vec = vectorizer.fit_transform(X_train)\n",
    "X_test_vec = vectorizer.transform(X_test)\n",
    "smote = SMOTE(random_state=42)\n",
    "X_train_res, y_train_res = smote.fit_resample(X_train_vec, y_train)\n",
    "model = MultinomialNB()\n",
    "model.fit(X_train_res, y_train_res)\n",
    "y_pred = model.predict(X_test_vec)\n",
    "print(\"Accuracy:\", accuracy_score(y_test, y_pred))"
   ]
  },
  {
   "cell_type": "code",
   "execution_count": 21,
   "id": "9778146b",
   "metadata": {},
   "outputs": [
    {
     "data": {
      "image/png": "[encoded data removed]",
      "text/plain": [
       "<Figure size 640x480 with 1 Axes>"
      ]
     },
     "metadata": {},
     "output_type": "display_data"
    }
   ],
   "source": [
    "# analyzing the class distribution afetr SMOTE\n",
    "y_train_res.value_counts().plot(kind='bar')\n",
    "plt.show()"
   ]
  },
  {
   "cell_type": "code",
   "execution_count": 22,
   "id": "ed0bdcc9",
   "metadata": {},
   "outputs": [
    {
     "data": {
      "image/png": "[encoded data removed]",
      "text/plain": [
       "<Figure size 640x480 with 1 Axes>"
      ]
     },
     "metadata": {},
     "output_type": "display_data"
    }
   ],
   "source": [
    "# class distribution pie chart\n",
    "y_train_res.value_counts().plot(kind='pie', autopct='%1.1f%%')\n",
    "plt.show()"
   ]
  },
  {
   "cell_type": "code",
   "execution_count": 23,
   "id": "470ab57b",
   "metadata": {},
   "outputs": [
    {
     "name": "stdout",
     "output_type": "stream",
     "text": [
      "Spam Messages:\n",
      "1455    Summers finally here! Fancy a chat or flirt wi...\n",
      "1852    This is the 2nd time we have tried 2 contact u...\n",
      "672     Get ur 1st RINGTONE FREE NOW! Reply to this ms...\n",
      "946     Ur cash-balance is currently 500 pounds - to m...\n",
      "2879    Last Chance! Claim ur å£150 worth of discount ...\n",
      "Name: v2, dtype: object\n",
      "\n",
      "Ham Messages:\n",
      "3714    I am late,so call you tomorrow morning.take ca...\n",
      "1311    U r too much close to my heart. If u go away i...\n",
      "548                                Wait  &lt;#&gt;  min..\n",
      "1324    Can you call me plz. Your number shows out of ...\n",
      "3184    MAYBE IF YOU WOKE UP BEFORE FUCKING 3 THIS WOU...\n",
      "Name: v2, dtype: object\n"
     ]
    }
   ],
   "source": [
    "#  Print out a few examples of both spam and ham messages to get a qualitative sense of the differences in their content.\n",
    "print(\"Spam Messages:\")\n",
    "print(dataset1[dataset1['v1'] == 'spam']['v2'].sample(5, random_state=42))\n",
    "print(\"\\nHam Messages:\")\n",
    "print(dataset1[dataset1['v1'] == 'ham']['v2'].sample(5, random_state=42))"
   ]
  },
  {
   "cell_type": "markdown",
   "id": "db787add",
   "metadata": {},
   "source": [
    "### Message Length Distribution Analysis"
   ]
  },
  {
   "cell_type": "code",
   "execution_count": 24,
   "id": "29af95a6",
   "metadata": {},
   "outputs": [
    {
     "data": {
      "text/html": [
       "<div>\n",
       "<style scoped>\n",
       "    .dataframe tbody tr th:only-of-type {\n",
       "        vertical-align: middle;\n",
       "    }\n",
       "\n",
       "    .dataframe tbody tr th {\n",
       "        vertical-align: top;\n",
       "    }\n",
       "\n",
       "    .dataframe thead th {\n",
       "        text-align: right;\n",
       "    }\n",
       "</style>\n",
       "<table border=\"1\" class=\"dataframe\">\n",
       "  <thead>\n",
       "    <tr style=\"text-align: right;\">\n",
       "      <th></th>\n",
       "      <th>v1</th>\n",
       "      <th>v2</th>\n",
       "      <th>length</th>\n",
       "    </tr>\n",
       "  </thead>\n",
       "  <tbody>\n",
       "    <tr>\n",
       "      <th>0</th>\n",
       "      <td>ham</td>\n",
       "      <td>Go until jurong point, crazy.. Available only ...</td>\n",
       "      <td>111</td>\n",
       "    </tr>\n",
       "    <tr>\n",
       "      <th>1</th>\n",
       "      <td>ham</td>\n",
       "      <td>Ok lar... Joking wif u oni...</td>\n",
       "      <td>29</td>\n",
       "    </tr>\n",
       "    <tr>\n",
       "      <th>2</th>\n",
       "      <td>spam</td>\n",
       "      <td>Free entry in 2 a wkly comp to win FA Cup fina...</td>\n",
       "      <td>155</td>\n",
       "    </tr>\n",
       "    <tr>\n",
       "      <th>3</th>\n",
       "      <td>ham</td>\n",
       "      <td>U dun say so early hor... U c already then say...</td>\n",
       "      <td>49</td>\n",
       "    </tr>\n",
       "    <tr>\n",
       "      <th>4</th>\n",
       "      <td>ham</td>\n",
       "      <td>Nah I don't think he goes to usf, he lives aro...</td>\n",
       "      <td>61</td>\n",
       "    </tr>\n",
       "    <tr>\n",
       "      <th>5</th>\n",
       "      <td>spam</td>\n",
       "      <td>FreeMsg Hey there darling it's been 3 week's n...</td>\n",
       "      <td>148</td>\n",
       "    </tr>\n",
       "    <tr>\n",
       "      <th>6</th>\n",
       "      <td>ham</td>\n",
       "      <td>Even my brother is not like to speak with me. ...</td>\n",
       "      <td>77</td>\n",
       "    </tr>\n",
       "    <tr>\n",
       "      <th>7</th>\n",
       "      <td>ham</td>\n",
       "      <td>As per your request 'Melle Melle (Oru Minnamin...</td>\n",
       "      <td>160</td>\n",
       "    </tr>\n",
       "    <tr>\n",
       "      <th>8</th>\n",
       "      <td>spam</td>\n",
       "      <td>WINNER!! As a valued network customer you have...</td>\n",
       "      <td>158</td>\n",
       "    </tr>\n",
       "    <tr>\n",
       "      <th>9</th>\n",
       "      <td>spam</td>\n",
       "      <td>Had your mobile 11 months or more? U R entitle...</td>\n",
       "      <td>154</td>\n",
       "    </tr>\n",
       "  </tbody>\n",
       "</table>\n",
       "</div>"
      ],
      "text/plain": [
       "     v1                                                 v2  length\n",
       "0   ham  Go until jurong point, crazy.. Available only ...     111\n",
       "1   ham                      Ok lar... Joking wif u oni...      29\n",
       "2  spam  Free entry in 2 a wkly comp to win FA Cup fina...     155\n",
       "3   ham  U dun say so early hor... U c already then say...      49\n",
       "4   ham  Nah I don't think he goes to usf, he lives aro...      61\n",
       "5  spam  FreeMsg Hey there darling it's been 3 week's n...     148\n",
       "6   ham  Even my brother is not like to speak with me. ...      77\n",
       "7   ham  As per your request 'Melle Melle (Oru Minnamin...     160\n",
       "8  spam  WINNER!! As a valued network customer you have...     158\n",
       "9  spam  Had your mobile 11 months or more? U R entitle...     154"
      ]
     },
     "execution_count": 24,
     "metadata": {},
     "output_type": "execute_result"
    }
   ],
   "source": [
    "# create length feature\n",
    "dataset1['length'] = dataset1['v2'].apply(len)\n",
    "dataset1.head(10)"
   ]
  },
  {
   "cell_type": "code",
   "execution_count": 25,
   "id": "cf09804a",
   "metadata": {},
   "outputs": [
    {
     "data": {
      "text/plain": [
       "<matplotlib.legend.Legend at 0x24245521550>"
      ]
     },
     "execution_count": 25,
     "metadata": {},
     "output_type": "execute_result"
    },
    {
     "data": {
      "image/png": "[encoded data removed]",
      "text/plain": [
       "<Figure size 1200x600 with 1 Axes>"
      ]
     },
     "metadata": {},
     "output_type": "display_data"
    }
   ],
   "source": [
    "# comapre length distribution between spam and ham\n",
    "plt.figure(figsize=(12, 6))\n",
    "dataset1[dataset1['v1'] == 'ham']['length'].plot(bins=50, kind='hist', color='blue', alpha=0.6, label='Ham')\n",
    "dataset1[dataset1['v1'] == 'spam']['length'].plot(bins=50, kind='hist', color='red', alpha=0.6, label='Spam')\n",
    "plt.legend()"
   ]
  },
  {
   "cell_type": "markdown",
   "id": "6ba2466a",
   "metadata": {},
   "source": [
    "### Punctuation and spacial charecter analysis"
   ]
  },
  {
   "cell_type": "code",
   "execution_count": 26,
   "id": "c9bfc8ef",
   "metadata": {},
   "outputs": [
    {
     "data": {
      "text/html": [
       "<div>\n",
       "<style scoped>\n",
       "    .dataframe tbody tr th:only-of-type {\n",
       "        vertical-align: middle;\n",
       "    }\n",
       "\n",
       "    .dataframe tbody tr th {\n",
       "        vertical-align: top;\n",
       "    }\n",
       "\n",
       "    .dataframe thead th {\n",
       "        text-align: right;\n",
       "    }\n",
       "</style>\n",
       "<table border=\"1\" class=\"dataframe\">\n",
       "  <thead>\n",
       "    <tr style=\"text-align: right;\">\n",
       "      <th></th>\n",
       "      <th>v1</th>\n",
       "      <th>v2</th>\n",
       "      <th>length</th>\n",
       "      <th>punctuation_count</th>\n",
       "    </tr>\n",
       "  </thead>\n",
       "  <tbody>\n",
       "    <tr>\n",
       "      <th>0</th>\n",
       "      <td>ham</td>\n",
       "      <td>Go until jurong point, crazy.. Available only ...</td>\n",
       "      <td>111</td>\n",
       "      <td>9</td>\n",
       "    </tr>\n",
       "    <tr>\n",
       "      <th>1</th>\n",
       "      <td>ham</td>\n",
       "      <td>Ok lar... Joking wif u oni...</td>\n",
       "      <td>29</td>\n",
       "      <td>6</td>\n",
       "    </tr>\n",
       "    <tr>\n",
       "      <th>2</th>\n",
       "      <td>spam</td>\n",
       "      <td>Free entry in 2 a wkly comp to win FA Cup fina...</td>\n",
       "      <td>155</td>\n",
       "      <td>6</td>\n",
       "    </tr>\n",
       "    <tr>\n",
       "      <th>3</th>\n",
       "      <td>ham</td>\n",
       "      <td>U dun say so early hor... U c already then say...</td>\n",
       "      <td>49</td>\n",
       "      <td>6</td>\n",
       "    </tr>\n",
       "    <tr>\n",
       "      <th>4</th>\n",
       "      <td>ham</td>\n",
       "      <td>Nah I don't think he goes to usf, he lives aro...</td>\n",
       "      <td>61</td>\n",
       "      <td>2</td>\n",
       "    </tr>\n",
       "    <tr>\n",
       "      <th>5</th>\n",
       "      <td>spam</td>\n",
       "      <td>FreeMsg Hey there darling it's been 3 week's n...</td>\n",
       "      <td>148</td>\n",
       "      <td>8</td>\n",
       "    </tr>\n",
       "    <tr>\n",
       "      <th>6</th>\n",
       "      <td>ham</td>\n",
       "      <td>Even my brother is not like to speak with me. ...</td>\n",
       "      <td>77</td>\n",
       "      <td>2</td>\n",
       "    </tr>\n",
       "    <tr>\n",
       "      <th>7</th>\n",
       "      <td>ham</td>\n",
       "      <td>As per your request 'Melle Melle (Oru Minnamin...</td>\n",
       "      <td>160</td>\n",
       "      <td>6</td>\n",
       "    </tr>\n",
       "    <tr>\n",
       "      <th>8</th>\n",
       "      <td>spam</td>\n",
       "      <td>WINNER!! As a valued network customer you have...</td>\n",
       "      <td>158</td>\n",
       "      <td>6</td>\n",
       "    </tr>\n",
       "    <tr>\n",
       "      <th>9</th>\n",
       "      <td>spam</td>\n",
       "      <td>Had your mobile 11 months or more? U R entitle...</td>\n",
       "      <td>154</td>\n",
       "      <td>2</td>\n",
       "    </tr>\n",
       "  </tbody>\n",
       "</table>\n",
       "</div>"
      ],
      "text/plain": [
       "     v1                                                 v2  length  \\\n",
       "0   ham  Go until jurong point, crazy.. Available only ...     111   \n",
       "1   ham                      Ok lar... Joking wif u oni...      29   \n",
       "2  spam  Free entry in 2 a wkly comp to win FA Cup fina...     155   \n",
       "3   ham  U dun say so early hor... U c already then say...      49   \n",
       "4   ham  Nah I don't think he goes to usf, he lives aro...      61   \n",
       "5  spam  FreeMsg Hey there darling it's been 3 week's n...     148   \n",
       "6   ham  Even my brother is not like to speak with me. ...      77   \n",
       "7   ham  As per your request 'Melle Melle (Oru Minnamin...     160   \n",
       "8  spam  WINNER!! As a valued network customer you have...     158   \n",
       "9  spam  Had your mobile 11 months or more? U R entitle...     154   \n",
       "\n",
       "   punctuation_count  \n",
       "0                  9  \n",
       "1                  6  \n",
       "2                  6  \n",
       "3                  6  \n",
       "4                  2  \n",
       "5                  8  \n",
       "6                  2  \n",
       "7                  6  \n",
       "8                  6  \n",
       "9                  2  "
      ]
     },
     "execution_count": 26,
     "metadata": {},
     "output_type": "execute_result"
    }
   ],
   "source": [
    "# count punctuations\n",
    "import string\n",
    "dataset1['punctuation_count'] = dataset1['v2'].apply(lambda x: sum(1 for char in x if char in string.punctuation))\n",
    "dataset1.head(10)"
   ]
  },
  {
   "cell_type": "code",
   "execution_count": 27,
   "id": "9bbe3350",
   "metadata": {},
   "outputs": [
    {
     "data": {
      "text/plain": [
       "<matplotlib.legend.Legend at 0x2424582a350>"
      ]
     },
     "execution_count": 27,
     "metadata": {},
     "output_type": "execute_result"
    },
    {
     "data": {
      "image/png": "[encoded data removed]",
      "text/plain": [
       "<Figure size 1200x600 with 1 Axes>"
      ]
     },
     "metadata": {},
     "output_type": "display_data"
    }
   ],
   "source": [
    "# compare counts per message between spam and ham\n",
    "plt.figure(figsize=(12, 6))\n",
    "dataset1[dataset1['v1'] == 'ham']['punctuation_count'].plot(bins=50, kind='hist', color='blue', alpha=0.6, label='Ham')\n",
    "dataset1[dataset1['v1'] == 'spam']['punctuation_count'].plot(bins=50, kind='hist', color='red', alpha=0.6, label='Spam')\n",
    "plt.legend()"
   ]
  },
  {
   "cell_type": "markdown",
   "id": "6738c615",
   "metadata": {},
   "source": [
    "### Word Level Analysis"
   ]
  },
  {
   "cell_type": "code",
   "execution_count": 28,
   "id": "ad92d31e",
   "metadata": {},
   "outputs": [
    {
     "data": {
      "image/png": "[encoded data removed]",
      "text/plain": [
       "<Figure size 1200x600 with 2 Axes>"
      ]
     },
     "metadata": {},
     "output_type": "display_data"
    }
   ],
   "source": [
    "# create word clouds for spam and ham messages\n",
    "from wordcloud import WordCloud\n",
    "spam_words = ' '.join(dataset1[dataset1['v1'] == 'spam']['v2'])\n",
    "ham_words = ' '.join(dataset1[dataset1['v1'] == 'ham']['v2'])\n",
    "spam_wordcloud = WordCloud(width=800, height=400, background_color='white').generate(spam_words)\n",
    "ham_wordcloud = WordCloud(width=800, height=400, background_color='white').generate(ham_words)\n",
    "# Display the word clouds\n",
    "plt.figure(figsize=(12, 6))\n",
    "plt.subplot(1, 2, 1)\n",
    "plt.imshow(spam_wordcloud, interpolation='bilinear')\n",
    "plt.axis('off')\n",
    "plt.title('Spam Word Cloud')\n",
    "plt.subplot(1, 2, 2)\n",
    "plt.imshow(ham_wordcloud, interpolation='bilinear')\n",
    "plt.axis('off')\n",
    "plt.title('Ham Word Cloud')\n",
    "plt.show()"
   ]
  },
  {
   "cell_type": "code",
   "execution_count": 29,
   "id": "7e7a1ff5",
   "metadata": {},
   "outputs": [
    {
     "name": "stdout",
     "output_type": "stream",
     "text": [
      "Top 20 Spam N-grams:\n",
      "  to: 688\n",
      "  call: 355\n",
      "  you: 297\n",
      "  your: 264\n",
      "  free: 224\n",
      "  the: 206\n",
      "  for: 203\n",
      "  now: 199\n",
      "  or: 188\n",
      "  txt: 163\n",
      "  is: 158\n",
      "  on: 144\n",
      "  ur: 144\n",
      "  have: 135\n",
      "  from: 131\n",
      "  mobile: 127\n",
      "  text: 125\n",
      "  and: 122\n",
      "  stop: 121\n",
      "  claim: 113\n",
      "Top 20 Ham N-grams:\n",
      "  you: 1943\n",
      "  to: 1554\n",
      "  the: 1122\n",
      "  and: 857\n",
      "  in: 818\n",
      "  me: 772\n",
      "  my: 750\n",
      "  is: 732\n",
      "  it: 711\n",
      "  that: 551\n",
      "  of: 525\n",
      "  for: 501\n",
      "  have: 440\n",
      "  can: 439\n",
      "  so: 435\n",
      "  but: 434\n",
      "  your: 417\n",
      "  not: 415\n",
      "  are: 414\n",
      "  on: 393\n"
     ]
    }
   ],
   "source": [
    "# Comapre top n-grams between spam and ham messages\n",
    "from sklearn.feature_extraction.text import CountVectorizer\n",
    "def get_top_ngrams(corpus, n=None, ngram_range=(1, 1)):\n",
    "    vec = CountVectorizer(ngram_range=ngram_range).fit(corpus)\n",
    "    bag_of_words = vec.transform(corpus)\n",
    "    sum_words = bag_of_words.sum(axis=0) \n",
    "    words_freq = [(word, sum_words[0, idx]) for word, idx in vec.vocabulary_.items()]\n",
    "    words_freq = sorted(words_freq, key=lambda x: x[1], reverse=True)\n",
    "    return words_freq[:n]\n",
    "# Comapre top n-grams between spam and ham messages\n",
    "from sklearn.feature_extraction.text import CountVectorizer \n",
    "def compare_spam_ham_ngrams(spam_corpus, ham_corpus, n=None, ngram_range=(1, 1)):\n",
    "    spam_ngrams = get_top_ngrams(spam_corpus, n=n, ngram_range=ngram_range)\n",
    "    ham_ngrams = get_top_ngrams(ham_corpus, n=n, ngram_range=ngram_range)\n",
    "    return spam_ngrams, ham_ngrams\n",
    "spam_corpus = dataset1[dataset1['v1'] == 'spam']['v2']\n",
    "ham_corpus = dataset1[dataset1['v1'] == 'ham']['v2']\n",
    "top_n = 20\n",
    "spam_ngrams, ham_ngrams = compare_spam_ham_ngrams(spam_corpus, ham_corpus, n=top_n, ngram_range=(1, 2))\n",
    "print(f\"Top {top_n} Spam N-grams:\")\n",
    "for ngram, freq in spam_ngrams:\n",
    "    print(f\"  {ngram}: {freq}\")\n",
    "print(f\"Top {top_n} Ham N-grams:\")\n",
    "for ngram, freq in ham_ngrams:\n",
    "    print(f\"  {ngram}: {freq}\")"
   ]
  },
  {
   "cell_type": "code",
   "execution_count": 30,
   "id": "3fb63fa0",
   "metadata": {},
   "outputs": [
    {
     "name": "stdout",
     "output_type": "stream",
     "text": [
      "Spam Case Usages (sample): {'Free': 35, 'entry': 25, 'in': 64, '2': 169, 'a': 358, 'wkly': 10, 'comp': 9, 'to': 604, 'win': 28, 'FA': 4}\n",
      "Ham Case Usages (sample): {'Go': 10, 'until': 21, 'jurong': 1, 'point,': 1, 'crazy..': 1, 'Available': 1, 'only': 102, 'in': 734, 'bugis': 4, 'n': 128}\n"
     ]
    }
   ],
   "source": [
    "# analyze case usages\n",
    "def analyze_case_usages(corpus):\n",
    "    case_usages = {}\n",
    "    for text in corpus:\n",
    "        for word in text.split():\n",
    "            # Count the occurrences of each word with its case\n",
    "            case_usages[word] = case_usages.get(word, 0) + 1\n",
    "    return case_usages\n",
    "spam_case_usages = analyze_case_usages(spam_corpus)\n",
    "ham_case_usages = analyze_case_usages(ham_corpus)\n",
    "spam_case_usages = analyze_case_usages(spam_corpus)\n",
    "ham_case_usages = analyze_case_usages(ham_corpus)\n",
    "print(\"Spam Case Usages (sample):\", dict(list(spam_case_usages.items())[:10]))\n",
    "print(\"Ham Case Usages (sample):\", dict(list(ham_case_usages.items())[:10]))"
   ]
  },
  {
   "cell_type": "markdown",
   "id": "8fc3591c",
   "metadata": {},
   "source": [
    "### Numerical and URL Analysis"
   ]
  },
  {
   "cell_type": "code",
   "execution_count": 31,
   "id": "46fa51bf",
   "metadata": {},
   "outputs": [
    {
     "data": {
      "text/html": [
       "<div>\n",
       "<style scoped>\n",
       "    .dataframe tbody tr th:only-of-type {\n",
       "        vertical-align: middle;\n",
       "    }\n",
       "\n",
       "    .dataframe tbody tr th {\n",
       "        vertical-align: top;\n",
       "    }\n",
       "\n",
       "    .dataframe thead th {\n",
       "        text-align: right;\n",
       "    }\n",
       "</style>\n",
       "<table border=\"1\" class=\"dataframe\">\n",
       "  <thead>\n",
       "    <tr style=\"text-align: right;\">\n",
       "      <th></th>\n",
       "      <th>v1</th>\n",
       "      <th>v2</th>\n",
       "      <th>length</th>\n",
       "      <th>punctuation_count</th>\n",
       "      <th>digit_count</th>\n",
       "    </tr>\n",
       "  </thead>\n",
       "  <tbody>\n",
       "    <tr>\n",
       "      <th>0</th>\n",
       "      <td>ham</td>\n",
       "      <td>Go until jurong point, crazy.. Available only ...</td>\n",
       "      <td>111</td>\n",
       "      <td>9</td>\n",
       "      <td>0</td>\n",
       "    </tr>\n",
       "    <tr>\n",
       "      <th>1</th>\n",
       "      <td>ham</td>\n",
       "      <td>Ok lar... Joking wif u oni...</td>\n",
       "      <td>29</td>\n",
       "      <td>6</td>\n",
       "      <td>0</td>\n",
       "    </tr>\n",
       "    <tr>\n",
       "      <th>2</th>\n",
       "      <td>spam</td>\n",
       "      <td>Free entry in 2 a wkly comp to win FA Cup fina...</td>\n",
       "      <td>155</td>\n",
       "      <td>6</td>\n",
       "      <td>25</td>\n",
       "    </tr>\n",
       "    <tr>\n",
       "      <th>3</th>\n",
       "      <td>ham</td>\n",
       "      <td>U dun say so early hor... U c already then say...</td>\n",
       "      <td>49</td>\n",
       "      <td>6</td>\n",
       "      <td>0</td>\n",
       "    </tr>\n",
       "    <tr>\n",
       "      <th>4</th>\n",
       "      <td>ham</td>\n",
       "      <td>Nah I don't think he goes to usf, he lives aro...</td>\n",
       "      <td>61</td>\n",
       "      <td>2</td>\n",
       "      <td>0</td>\n",
       "    </tr>\n",
       "    <tr>\n",
       "      <th>5</th>\n",
       "      <td>spam</td>\n",
       "      <td>FreeMsg Hey there darling it's been 3 week's n...</td>\n",
       "      <td>148</td>\n",
       "      <td>8</td>\n",
       "      <td>4</td>\n",
       "    </tr>\n",
       "    <tr>\n",
       "      <th>6</th>\n",
       "      <td>ham</td>\n",
       "      <td>Even my brother is not like to speak with me. ...</td>\n",
       "      <td>77</td>\n",
       "      <td>2</td>\n",
       "      <td>0</td>\n",
       "    </tr>\n",
       "    <tr>\n",
       "      <th>7</th>\n",
       "      <td>ham</td>\n",
       "      <td>As per your request 'Melle Melle (Oru Minnamin...</td>\n",
       "      <td>160</td>\n",
       "      <td>6</td>\n",
       "      <td>1</td>\n",
       "    </tr>\n",
       "    <tr>\n",
       "      <th>8</th>\n",
       "      <td>spam</td>\n",
       "      <td>WINNER!! As a valued network customer you have...</td>\n",
       "      <td>158</td>\n",
       "      <td>6</td>\n",
       "      <td>19</td>\n",
       "    </tr>\n",
       "    <tr>\n",
       "      <th>9</th>\n",
       "      <td>spam</td>\n",
       "      <td>Had your mobile 11 months or more? U R entitle...</td>\n",
       "      <td>154</td>\n",
       "      <td>2</td>\n",
       "      <td>13</td>\n",
       "    </tr>\n",
       "  </tbody>\n",
       "</table>\n",
       "</div>"
      ],
      "text/plain": [
       "     v1                                                 v2  length  \\\n",
       "0   ham  Go until jurong point, crazy.. Available only ...     111   \n",
       "1   ham                      Ok lar... Joking wif u oni...      29   \n",
       "2  spam  Free entry in 2 a wkly comp to win FA Cup fina...     155   \n",
       "3   ham  U dun say so early hor... U c already then say...      49   \n",
       "4   ham  Nah I don't think he goes to usf, he lives aro...      61   \n",
       "5  spam  FreeMsg Hey there darling it's been 3 week's n...     148   \n",
       "6   ham  Even my brother is not like to speak with me. ...      77   \n",
       "7   ham  As per your request 'Melle Melle (Oru Minnamin...     160   \n",
       "8  spam  WINNER!! As a valued network customer you have...     158   \n",
       "9  spam  Had your mobile 11 months or more? U R entitle...     154   \n",
       "\n",
       "   punctuation_count  digit_count  \n",
       "0                  9            0  \n",
       "1                  6            0  \n",
       "2                  6           25  \n",
       "3                  6            0  \n",
       "4                  2            0  \n",
       "5                  8            4  \n",
       "6                  2            0  \n",
       "7                  6            1  \n",
       "8                  6           19  \n",
       "9                  2           13  "
      ]
     },
     "execution_count": 31,
     "metadata": {},
     "output_type": "execute_result"
    }
   ],
   "source": [
    "# count numerical digits\n",
    "import re\n",
    "dataset1['digit_count'] = dataset1['v2'].apply(lambda x: len(re.findall(r'\\d', x)))\n",
    "dataset1.head(10)"
   ]
  },
  {
   "cell_type": "code",
   "execution_count": 32,
   "id": "a5e44b8c",
   "metadata": {},
   "outputs": [
    {
     "data": {
      "text/html": [
       "<div>\n",
       "<style scoped>\n",
       "    .dataframe tbody tr th:only-of-type {\n",
       "        vertical-align: middle;\n",
       "    }\n",
       "\n",
       "    .dataframe tbody tr th {\n",
       "        vertical-align: top;\n",
       "    }\n",
       "\n",
       "    .dataframe thead th {\n",
       "        text-align: right;\n",
       "    }\n",
       "</style>\n",
       "<table border=\"1\" class=\"dataframe\">\n",
       "  <thead>\n",
       "    <tr style=\"text-align: right;\">\n",
       "      <th></th>\n",
       "      <th>v1</th>\n",
       "      <th>v2</th>\n",
       "      <th>length</th>\n",
       "      <th>punctuation_count</th>\n",
       "      <th>digit_count</th>\n",
       "      <th>url_count</th>\n",
       "    </tr>\n",
       "  </thead>\n",
       "  <tbody>\n",
       "    <tr>\n",
       "      <th>0</th>\n",
       "      <td>ham</td>\n",
       "      <td>Go until jurong point, crazy.. Available only ...</td>\n",
       "      <td>111</td>\n",
       "      <td>9</td>\n",
       "      <td>0</td>\n",
       "      <td>0</td>\n",
       "    </tr>\n",
       "    <tr>\n",
       "      <th>1</th>\n",
       "      <td>ham</td>\n",
       "      <td>Ok lar... Joking wif u oni...</td>\n",
       "      <td>29</td>\n",
       "      <td>6</td>\n",
       "      <td>0</td>\n",
       "      <td>0</td>\n",
       "    </tr>\n",
       "    <tr>\n",
       "      <th>2</th>\n",
       "      <td>spam</td>\n",
       "      <td>Free entry in 2 a wkly comp to win FA Cup fina...</td>\n",
       "      <td>155</td>\n",
       "      <td>6</td>\n",
       "      <td>25</td>\n",
       "      <td>0</td>\n",
       "    </tr>\n",
       "    <tr>\n",
       "      <th>3</th>\n",
       "      <td>ham</td>\n",
       "      <td>U dun say so early hor... U c already then say...</td>\n",
       "      <td>49</td>\n",
       "      <td>6</td>\n",
       "      <td>0</td>\n",
       "      <td>0</td>\n",
       "    </tr>\n",
       "    <tr>\n",
       "      <th>4</th>\n",
       "      <td>ham</td>\n",
       "      <td>Nah I don't think he goes to usf, he lives aro...</td>\n",
       "      <td>61</td>\n",
       "      <td>2</td>\n",
       "      <td>0</td>\n",
       "      <td>0</td>\n",
       "    </tr>\n",
       "    <tr>\n",
       "      <th>5</th>\n",
       "      <td>spam</td>\n",
       "      <td>FreeMsg Hey there darling it's been 3 week's n...</td>\n",
       "      <td>148</td>\n",
       "      <td>8</td>\n",
       "      <td>4</td>\n",
       "      <td>0</td>\n",
       "    </tr>\n",
       "    <tr>\n",
       "      <th>6</th>\n",
       "      <td>ham</td>\n",
       "      <td>Even my brother is not like to speak with me. ...</td>\n",
       "      <td>77</td>\n",
       "      <td>2</td>\n",
       "      <td>0</td>\n",
       "      <td>0</td>\n",
       "    </tr>\n",
       "    <tr>\n",
       "      <th>7</th>\n",
       "      <td>ham</td>\n",
       "      <td>As per your request 'Melle Melle (Oru Minnamin...</td>\n",
       "      <td>160</td>\n",
       "      <td>6</td>\n",
       "      <td>1</td>\n",
       "      <td>0</td>\n",
       "    </tr>\n",
       "    <tr>\n",
       "      <th>8</th>\n",
       "      <td>spam</td>\n",
       "      <td>WINNER!! As a valued network customer you have...</td>\n",
       "      <td>158</td>\n",
       "      <td>6</td>\n",
       "      <td>19</td>\n",
       "      <td>0</td>\n",
       "    </tr>\n",
       "    <tr>\n",
       "      <th>9</th>\n",
       "      <td>spam</td>\n",
       "      <td>Had your mobile 11 months or more? U R entitle...</td>\n",
       "      <td>154</td>\n",
       "      <td>2</td>\n",
       "      <td>13</td>\n",
       "      <td>0</td>\n",
       "    </tr>\n",
       "    <tr>\n",
       "      <th>10</th>\n",
       "      <td>ham</td>\n",
       "      <td>I'm gonna be home soon and i don't want to tal...</td>\n",
       "      <td>109</td>\n",
       "      <td>6</td>\n",
       "      <td>0</td>\n",
       "      <td>0</td>\n",
       "    </tr>\n",
       "    <tr>\n",
       "      <th>11</th>\n",
       "      <td>spam</td>\n",
       "      <td>SIX chances to win CASH! From 100 to 20,000 po...</td>\n",
       "      <td>136</td>\n",
       "      <td>8</td>\n",
       "      <td>22</td>\n",
       "      <td>0</td>\n",
       "    </tr>\n",
       "    <tr>\n",
       "      <th>12</th>\n",
       "      <td>spam</td>\n",
       "      <td>URGENT! You have won a 1 week FREE membership ...</td>\n",
       "      <td>156</td>\n",
       "      <td>8</td>\n",
       "      <td>20</td>\n",
       "      <td>0</td>\n",
       "    </tr>\n",
       "    <tr>\n",
       "      <th>13</th>\n",
       "      <td>ham</td>\n",
       "      <td>I've been searching for the right words to tha...</td>\n",
       "      <td>196</td>\n",
       "      <td>4</td>\n",
       "      <td>0</td>\n",
       "      <td>0</td>\n",
       "    </tr>\n",
       "    <tr>\n",
       "      <th>14</th>\n",
       "      <td>ham</td>\n",
       "      <td>I HAVE A DATE ON SUNDAY WITH WILL!!</td>\n",
       "      <td>35</td>\n",
       "      <td>2</td>\n",
       "      <td>0</td>\n",
       "      <td>0</td>\n",
       "    </tr>\n",
       "    <tr>\n",
       "      <th>15</th>\n",
       "      <td>spam</td>\n",
       "      <td>XXXMobileMovieClub: To use your credit, click ...</td>\n",
       "      <td>149</td>\n",
       "      <td>11</td>\n",
       "      <td>0</td>\n",
       "      <td>1</td>\n",
       "    </tr>\n",
       "    <tr>\n",
       "      <th>16</th>\n",
       "      <td>ham</td>\n",
       "      <td>Oh k...i'm watching here:)</td>\n",
       "      <td>26</td>\n",
       "      <td>6</td>\n",
       "      <td>0</td>\n",
       "      <td>0</td>\n",
       "    </tr>\n",
       "    <tr>\n",
       "      <th>17</th>\n",
       "      <td>ham</td>\n",
       "      <td>Eh u remember how 2 spell his name... Yes i di...</td>\n",
       "      <td>81</td>\n",
       "      <td>5</td>\n",
       "      <td>1</td>\n",
       "      <td>0</td>\n",
       "    </tr>\n",
       "    <tr>\n",
       "      <th>18</th>\n",
       "      <td>ham</td>\n",
       "      <td>Fine if thatåÕs the way u feel. ThatåÕs the wa...</td>\n",
       "      <td>58</td>\n",
       "      <td>1</td>\n",
       "      <td>0</td>\n",
       "      <td>0</td>\n",
       "    </tr>\n",
       "    <tr>\n",
       "      <th>19</th>\n",
       "      <td>spam</td>\n",
       "      <td>England v Macedonia - dont miss the goals/team...</td>\n",
       "      <td>156</td>\n",
       "      <td>8</td>\n",
       "      <td>23</td>\n",
       "      <td>0</td>\n",
       "    </tr>\n",
       "    <tr>\n",
       "      <th>20</th>\n",
       "      <td>ham</td>\n",
       "      <td>Is that seriously how you spell his name?</td>\n",
       "      <td>41</td>\n",
       "      <td>1</td>\n",
       "      <td>0</td>\n",
       "      <td>0</td>\n",
       "    </tr>\n",
       "    <tr>\n",
       "      <th>21</th>\n",
       "      <td>ham</td>\n",
       "      <td>IÛ÷m going to try for 2 months ha ha only joking</td>\n",
       "      <td>49</td>\n",
       "      <td>0</td>\n",
       "      <td>1</td>\n",
       "      <td>0</td>\n",
       "    </tr>\n",
       "    <tr>\n",
       "      <th>22</th>\n",
       "      <td>ham</td>\n",
       "      <td>So Ì_ pay first lar... Then when is da stock c...</td>\n",
       "      <td>53</td>\n",
       "      <td>7</td>\n",
       "      <td>0</td>\n",
       "      <td>0</td>\n",
       "    </tr>\n",
       "    <tr>\n",
       "      <th>23</th>\n",
       "      <td>ham</td>\n",
       "      <td>Aft i finish my lunch then i go str down lor. ...</td>\n",
       "      <td>88</td>\n",
       "      <td>3</td>\n",
       "      <td>1</td>\n",
       "      <td>0</td>\n",
       "    </tr>\n",
       "    <tr>\n",
       "      <th>24</th>\n",
       "      <td>ham</td>\n",
       "      <td>Ffffffffff. Alright no way I can meet up with ...</td>\n",
       "      <td>57</td>\n",
       "      <td>2</td>\n",
       "      <td>0</td>\n",
       "      <td>0</td>\n",
       "    </tr>\n",
       "    <tr>\n",
       "      <th>25</th>\n",
       "      <td>ham</td>\n",
       "      <td>Just forced myself to eat a slice. I'm really ...</td>\n",
       "      <td>144</td>\n",
       "      <td>7</td>\n",
       "      <td>0</td>\n",
       "      <td>0</td>\n",
       "    </tr>\n",
       "    <tr>\n",
       "      <th>26</th>\n",
       "      <td>ham</td>\n",
       "      <td>Lol your always so convincing.</td>\n",
       "      <td>30</td>\n",
       "      <td>1</td>\n",
       "      <td>0</td>\n",
       "      <td>0</td>\n",
       "    </tr>\n",
       "    <tr>\n",
       "      <th>27</th>\n",
       "      <td>ham</td>\n",
       "      <td>Did you catch the bus ? Are you frying an egg ...</td>\n",
       "      <td>134</td>\n",
       "      <td>6</td>\n",
       "      <td>0</td>\n",
       "      <td>0</td>\n",
       "    </tr>\n",
       "    <tr>\n",
       "      <th>28</th>\n",
       "      <td>ham</td>\n",
       "      <td>I'm back &amp;amp; we're packing the car now, I'll...</td>\n",
       "      <td>75</td>\n",
       "      <td>7</td>\n",
       "      <td>0</td>\n",
       "      <td>0</td>\n",
       "    </tr>\n",
       "    <tr>\n",
       "      <th>29</th>\n",
       "      <td>ham</td>\n",
       "      <td>Ahhh. Work. I vaguely remember that! What does...</td>\n",
       "      <td>64</td>\n",
       "      <td>4</td>\n",
       "      <td>0</td>\n",
       "      <td>0</td>\n",
       "    </tr>\n",
       "    <tr>\n",
       "      <th>30</th>\n",
       "      <td>ham</td>\n",
       "      <td>Wait that's still not all that clear, were you...</td>\n",
       "      <td>130</td>\n",
       "      <td>4</td>\n",
       "      <td>0</td>\n",
       "      <td>0</td>\n",
       "    </tr>\n",
       "    <tr>\n",
       "      <th>31</th>\n",
       "      <td>ham</td>\n",
       "      <td>Yeah he got in at 2 and was v apologetic. n ha...</td>\n",
       "      <td>189</td>\n",
       "      <td>7</td>\n",
       "      <td>2</td>\n",
       "      <td>0</td>\n",
       "    </tr>\n",
       "    <tr>\n",
       "      <th>32</th>\n",
       "      <td>ham</td>\n",
       "      <td>K tell me anything about you.</td>\n",
       "      <td>29</td>\n",
       "      <td>1</td>\n",
       "      <td>0</td>\n",
       "      <td>0</td>\n",
       "    </tr>\n",
       "    <tr>\n",
       "      <th>33</th>\n",
       "      <td>ham</td>\n",
       "      <td>For fear of fainting with the of all that hous...</td>\n",
       "      <td>84</td>\n",
       "      <td>1</td>\n",
       "      <td>0</td>\n",
       "      <td>0</td>\n",
       "    </tr>\n",
       "    <tr>\n",
       "      <th>34</th>\n",
       "      <td>spam</td>\n",
       "      <td>Thanks for your subscription to Ringtone UK yo...</td>\n",
       "      <td>159</td>\n",
       "      <td>2</td>\n",
       "      <td>1</td>\n",
       "      <td>0</td>\n",
       "    </tr>\n",
       "    <tr>\n",
       "      <th>35</th>\n",
       "      <td>ham</td>\n",
       "      <td>Yup... Ok i go home look at the timings then i...</td>\n",
       "      <td>123</td>\n",
       "      <td>7</td>\n",
       "      <td>2</td>\n",
       "      <td>0</td>\n",
       "    </tr>\n",
       "    <tr>\n",
       "      <th>36</th>\n",
       "      <td>ham</td>\n",
       "      <td>Oops, I'll let you know when my roommate's done</td>\n",
       "      <td>47</td>\n",
       "      <td>3</td>\n",
       "      <td>0</td>\n",
       "      <td>0</td>\n",
       "    </tr>\n",
       "    <tr>\n",
       "      <th>37</th>\n",
       "      <td>ham</td>\n",
       "      <td>I see the letter B on my car</td>\n",
       "      <td>28</td>\n",
       "      <td>0</td>\n",
       "      <td>0</td>\n",
       "      <td>0</td>\n",
       "    </tr>\n",
       "    <tr>\n",
       "      <th>38</th>\n",
       "      <td>ham</td>\n",
       "      <td>Anything lor... U decide...</td>\n",
       "      <td>27</td>\n",
       "      <td>6</td>\n",
       "      <td>0</td>\n",
       "      <td>0</td>\n",
       "    </tr>\n",
       "    <tr>\n",
       "      <th>39</th>\n",
       "      <td>ham</td>\n",
       "      <td>Hello! How's you and how did saturday go? I wa...</td>\n",
       "      <td>155</td>\n",
       "      <td>7</td>\n",
       "      <td>0</td>\n",
       "      <td>0</td>\n",
       "    </tr>\n",
       "    <tr>\n",
       "      <th>40</th>\n",
       "      <td>ham</td>\n",
       "      <td>Pls go ahead with watts. I just wanted to be s...</td>\n",
       "      <td>82</td>\n",
       "      <td>3</td>\n",
       "      <td>0</td>\n",
       "      <td>0</td>\n",
       "    </tr>\n",
       "    <tr>\n",
       "      <th>41</th>\n",
       "      <td>ham</td>\n",
       "      <td>Did I forget to tell you ? I want you , I need...</td>\n",
       "      <td>142</td>\n",
       "      <td>15</td>\n",
       "      <td>0</td>\n",
       "      <td>0</td>\n",
       "    </tr>\n",
       "    <tr>\n",
       "      <th>42</th>\n",
       "      <td>spam</td>\n",
       "      <td>07732584351 - Rodger Burns - MSG = We tried to...</td>\n",
       "      <td>172</td>\n",
       "      <td>5</td>\n",
       "      <td>22</td>\n",
       "      <td>0</td>\n",
       "    </tr>\n",
       "    <tr>\n",
       "      <th>43</th>\n",
       "      <td>ham</td>\n",
       "      <td>WHO ARE YOU SEEING?</td>\n",
       "      <td>19</td>\n",
       "      <td>1</td>\n",
       "      <td>0</td>\n",
       "      <td>0</td>\n",
       "    </tr>\n",
       "    <tr>\n",
       "      <th>44</th>\n",
       "      <td>ham</td>\n",
       "      <td>Great! I hope you like your man well endowed. ...</td>\n",
       "      <td>72</td>\n",
       "      <td>10</td>\n",
       "      <td>0</td>\n",
       "      <td>0</td>\n",
       "    </tr>\n",
       "    <tr>\n",
       "      <th>45</th>\n",
       "      <td>ham</td>\n",
       "      <td>No calls..messages..missed calls</td>\n",
       "      <td>32</td>\n",
       "      <td>4</td>\n",
       "      <td>0</td>\n",
       "      <td>0</td>\n",
       "    </tr>\n",
       "    <tr>\n",
       "      <th>46</th>\n",
       "      <td>ham</td>\n",
       "      <td>Didn't you get hep b immunisation in nigeria.</td>\n",
       "      <td>45</td>\n",
       "      <td>2</td>\n",
       "      <td>0</td>\n",
       "      <td>0</td>\n",
       "    </tr>\n",
       "    <tr>\n",
       "      <th>47</th>\n",
       "      <td>ham</td>\n",
       "      <td>Fair enough, anything going on?</td>\n",
       "      <td>31</td>\n",
       "      <td>2</td>\n",
       "      <td>0</td>\n",
       "      <td>0</td>\n",
       "    </tr>\n",
       "    <tr>\n",
       "      <th>48</th>\n",
       "      <td>ham</td>\n",
       "      <td>Yeah hopefully, if tyler can't do it I could m...</td>\n",
       "      <td>67</td>\n",
       "      <td>2</td>\n",
       "      <td>0</td>\n",
       "      <td>0</td>\n",
       "    </tr>\n",
       "    <tr>\n",
       "      <th>49</th>\n",
       "      <td>ham</td>\n",
       "      <td>U don't know how stubborn I am. I didn't even ...</td>\n",
       "      <td>148</td>\n",
       "      <td>7</td>\n",
       "      <td>0</td>\n",
       "      <td>0</td>\n",
       "    </tr>\n",
       "    <tr>\n",
       "      <th>50</th>\n",
       "      <td>ham</td>\n",
       "      <td>What you thinked about me. First time you saw ...</td>\n",
       "      <td>58</td>\n",
       "      <td>2</td>\n",
       "      <td>0</td>\n",
       "      <td>0</td>\n",
       "    </tr>\n",
       "    <tr>\n",
       "      <th>51</th>\n",
       "      <td>ham</td>\n",
       "      <td>A gram usually runs like  &amp;lt;#&amp;gt; , a half e...</td>\n",
       "      <td>124</td>\n",
       "      <td>11</td>\n",
       "      <td>0</td>\n",
       "      <td>0</td>\n",
       "    </tr>\n",
       "    <tr>\n",
       "      <th>52</th>\n",
       "      <td>ham</td>\n",
       "      <td>K fyi x has a ride early tomorrow morning but ...</td>\n",
       "      <td>80</td>\n",
       "      <td>1</td>\n",
       "      <td>0</td>\n",
       "      <td>0</td>\n",
       "    </tr>\n",
       "    <tr>\n",
       "      <th>53</th>\n",
       "      <td>ham</td>\n",
       "      <td>Wow. I never realized that you were so embaras...</td>\n",
       "      <td>291</td>\n",
       "      <td>16</td>\n",
       "      <td>0</td>\n",
       "      <td>0</td>\n",
       "    </tr>\n",
       "    <tr>\n",
       "      <th>54</th>\n",
       "      <td>spam</td>\n",
       "      <td>SMS. ac Sptv: The New Jersey Devils and the De...</td>\n",
       "      <td>120</td>\n",
       "      <td>5</td>\n",
       "      <td>0</td>\n",
       "      <td>0</td>\n",
       "    </tr>\n",
       "    <tr>\n",
       "      <th>55</th>\n",
       "      <td>ham</td>\n",
       "      <td>Do you know what Mallika Sherawat did yesterda...</td>\n",
       "      <td>76</td>\n",
       "      <td>6</td>\n",
       "      <td>0</td>\n",
       "      <td>0</td>\n",
       "    </tr>\n",
       "    <tr>\n",
       "      <th>56</th>\n",
       "      <td>spam</td>\n",
       "      <td>Congrats! 1 year special cinema pass for 2 is ...</td>\n",
       "      <td>161</td>\n",
       "      <td>12</td>\n",
       "      <td>24</td>\n",
       "      <td>0</td>\n",
       "    </tr>\n",
       "    <tr>\n",
       "      <th>57</th>\n",
       "      <td>ham</td>\n",
       "      <td>Sorry, I'll call later in meeting.</td>\n",
       "      <td>34</td>\n",
       "      <td>3</td>\n",
       "      <td>0</td>\n",
       "      <td>0</td>\n",
       "    </tr>\n",
       "    <tr>\n",
       "      <th>58</th>\n",
       "      <td>ham</td>\n",
       "      <td>Tell where you reached</td>\n",
       "      <td>22</td>\n",
       "      <td>0</td>\n",
       "      <td>0</td>\n",
       "      <td>0</td>\n",
       "    </tr>\n",
       "    <tr>\n",
       "      <th>59</th>\n",
       "      <td>ham</td>\n",
       "      <td>Yes..gauti and sehwag out of odi series.</td>\n",
       "      <td>40</td>\n",
       "      <td>3</td>\n",
       "      <td>0</td>\n",
       "      <td>0</td>\n",
       "    </tr>\n",
       "  </tbody>\n",
       "</table>\n",
       "</div>"
      ],
      "text/plain": [
       "      v1                                                 v2  length  \\\n",
       "0    ham  Go until jurong point, crazy.. Available only ...     111   \n",
       "1    ham                      Ok lar... Joking wif u oni...      29   \n",
       "2   spam  Free entry in 2 a wkly comp to win FA Cup fina...     155   \n",
       "3    ham  U dun say so early hor... U c already then say...      49   \n",
       "4    ham  Nah I don't think he goes to usf, he lives aro...      61   \n",
       "5   spam  FreeMsg Hey there darling it's been 3 week's n...     148   \n",
       "6    ham  Even my brother is not like to speak with me. ...      77   \n",
       "7    ham  As per your request 'Melle Melle (Oru Minnamin...     160   \n",
       "8   spam  WINNER!! As a valued network customer you have...     158   \n",
       "9   spam  Had your mobile 11 months or more? U R entitle...     154   \n",
       "10   ham  I'm gonna be home soon and i don't want to tal...     109   \n",
       "11  spam  SIX chances to win CASH! From 100 to 20,000 po...     136   \n",
       "12  spam  URGENT! You have won a 1 week FREE membership ...     156   \n",
       "13   ham  I've been searching for the right words to tha...     196   \n",
       "14   ham                I HAVE A DATE ON SUNDAY WITH WILL!!      35   \n",
       "15  spam  XXXMobileMovieClub: To use your credit, click ...     149   \n",
       "16   ham                         Oh k...i'm watching here:)      26   \n",
       "17   ham  Eh u remember how 2 spell his name... Yes i di...      81   \n",
       "18   ham  Fine if thatåÕs the way u feel. ThatåÕs the wa...      58   \n",
       "19  spam  England v Macedonia - dont miss the goals/team...     156   \n",
       "20   ham          Is that seriously how you spell his name?      41   \n",
       "21   ham  IÛ÷m going to try for 2 months ha ha only joking      49   \n",
       "22   ham  So Ì_ pay first lar... Then when is da stock c...      53   \n",
       "23   ham  Aft i finish my lunch then i go str down lor. ...      88   \n",
       "24   ham  Ffffffffff. Alright no way I can meet up with ...      57   \n",
       "25   ham  Just forced myself to eat a slice. I'm really ...     144   \n",
       "26   ham                     Lol your always so convincing.      30   \n",
       "27   ham  Did you catch the bus ? Are you frying an egg ...     134   \n",
       "28   ham  I'm back &amp; we're packing the car now, I'll...      75   \n",
       "29   ham  Ahhh. Work. I vaguely remember that! What does...      64   \n",
       "30   ham  Wait that's still not all that clear, were you...     130   \n",
       "31   ham  Yeah he got in at 2 and was v apologetic. n ha...     189   \n",
       "32   ham                      K tell me anything about you.      29   \n",
       "33   ham  For fear of fainting with the of all that hous...      84   \n",
       "34  spam  Thanks for your subscription to Ringtone UK yo...     159   \n",
       "35   ham  Yup... Ok i go home look at the timings then i...     123   \n",
       "36   ham    Oops, I'll let you know when my roommate's done      47   \n",
       "37   ham                       I see the letter B on my car      28   \n",
       "38   ham                        Anything lor... U decide...      27   \n",
       "39   ham  Hello! How's you and how did saturday go? I wa...     155   \n",
       "40   ham  Pls go ahead with watts. I just wanted to be s...      82   \n",
       "41   ham  Did I forget to tell you ? I want you , I need...     142   \n",
       "42  spam  07732584351 - Rodger Burns - MSG = We tried to...     172   \n",
       "43   ham                                WHO ARE YOU SEEING?      19   \n",
       "44   ham  Great! I hope you like your man well endowed. ...      72   \n",
       "45   ham                   No calls..messages..missed calls      32   \n",
       "46   ham      Didn't you get hep b immunisation in nigeria.      45   \n",
       "47   ham                    Fair enough, anything going on?      31   \n",
       "48   ham  Yeah hopefully, if tyler can't do it I could m...      67   \n",
       "49   ham  U don't know how stubborn I am. I didn't even ...     148   \n",
       "50   ham  What you thinked about me. First time you saw ...      58   \n",
       "51   ham  A gram usually runs like  &lt;#&gt; , a half e...     124   \n",
       "52   ham  K fyi x has a ride early tomorrow morning but ...      80   \n",
       "53   ham  Wow. I never realized that you were so embaras...     291   \n",
       "54  spam  SMS. ac Sptv: The New Jersey Devils and the De...     120   \n",
       "55   ham  Do you know what Mallika Sherawat did yesterda...      76   \n",
       "56  spam  Congrats! 1 year special cinema pass for 2 is ...     161   \n",
       "57   ham                 Sorry, I'll call later in meeting.      34   \n",
       "58   ham                             Tell where you reached      22   \n",
       "59   ham           Yes..gauti and sehwag out of odi series.      40   \n",
       "\n",
       "    punctuation_count  digit_count  url_count  \n",
       "0                   9            0          0  \n",
       "1                   6            0          0  \n",
       "2                   6           25          0  \n",
       "3                   6            0          0  \n",
       "4                   2            0          0  \n",
       "5                   8            4          0  \n",
       "6                   2            0          0  \n",
       "7                   6            1          0  \n",
       "8                   6           19          0  \n",
       "9                   2           13          0  \n",
       "10                  6            0          0  \n",
       "11                  8           22          0  \n",
       "12                  8           20          0  \n",
       "13                  4            0          0  \n",
       "14                  2            0          0  \n",
       "15                 11            0          1  \n",
       "16                  6            0          0  \n",
       "17                  5            1          0  \n",
       "18                  1            0          0  \n",
       "19                  8           23          0  \n",
       "20                  1            0          0  \n",
       "21                  0            1          0  \n",
       "22                  7            0          0  \n",
       "23                  3            1          0  \n",
       "24                  2            0          0  \n",
       "25                  7            0          0  \n",
       "26                  1            0          0  \n",
       "27                  6            0          0  \n",
       "28                  7            0          0  \n",
       "29                  4            0          0  \n",
       "30                  4            0          0  \n",
       "31                  7            2          0  \n",
       "32                  1            0          0  \n",
       "33                  1            0          0  \n",
       "34                  2            1          0  \n",
       "35                  7            2          0  \n",
       "36                  3            0          0  \n",
       "37                  0            0          0  \n",
       "38                  6            0          0  \n",
       "39                  7            0          0  \n",
       "40                  3            0          0  \n",
       "41                 15            0          0  \n",
       "42                  5           22          0  \n",
       "43                  1            0          0  \n",
       "44                 10            0          0  \n",
       "45                  4            0          0  \n",
       "46                  2            0          0  \n",
       "47                  2            0          0  \n",
       "48                  2            0          0  \n",
       "49                  7            0          0  \n",
       "50                  2            0          0  \n",
       "51                 11            0          0  \n",
       "52                  1            0          0  \n",
       "53                 16            0          0  \n",
       "54                  5            0          0  \n",
       "55                  6            0          0  \n",
       "56                 12           24          0  \n",
       "57                  3            0          0  \n",
       "58                  0            0          0  \n",
       "59                  3            0          0  "
      ]
     },
     "execution_count": 32,
     "metadata": {},
     "output_type": "execute_result"
    }
   ],
   "source": [
    "# count URLs\n",
    "import re\n",
    "def count_urls(text):\n",
    "    url_pattern = r'http[s]?://(?:[a-zA-Z]|[0-9]|[$-_@.&+]|[!*\\\\(\\\\),]|(?:%[0-9a-fA-F][0-9a-fA-F]))+'\n",
    "    return len(re.findall(url_pattern, text))\n",
    "\n",
    "dataset1['url_count'] = dataset1['v2'].apply(count_urls)\n",
    "dataset1.head(60)"
   ]
  },
  {
   "cell_type": "code",
   "execution_count": 33,
   "id": "da24cb83",
   "metadata": {},
   "outputs": [
    {
     "data": {
      "text/plain": [
       "<Axes: title={'center': 'URL Count'}, xlabel='v1', ylabel='url_count'>"
      ]
     },
     "execution_count": 33,
     "metadata": {},
     "output_type": "execute_result"
    },
    {
     "data": {
      "image/png": "[encoded data removed]",
      "text/plain": [
       "<Figure size 1200x600 with 2 Axes>"
      ]
     },
     "metadata": {},
     "output_type": "display_data"
    }
   ],
   "source": [
    "# compare counts per message between spam and ham\n",
    "import seaborn as sns\n",
    "plt.figure(figsize=(12, 6))\n",
    "plt.subplot(1, 2, 1)\n",
    "plt.title(\"Digit Count\")\n",
    "sns.boxplot(x='v1', y='digit_count', data=dataset1)\n",
    "plt.subplot(1, 2, 2)\n",
    "plt.title(\"URL Count\")\n",
    "sns.boxplot(x='v1', y='url_count', data=dataset1)"
   ]
  },
  {
   "cell_type": "markdown",
   "id": "83d708a6",
   "metadata": {},
   "source": [
    "### Linguistic Feature Analysis"
   ]
  },
  {
   "cell_type": "code",
   "execution_count": 34,
   "id": "fa75fb3c",
   "metadata": {},
   "outputs": [],
   "source": [
    "# analyze abbreviations and slangs\n",
    "abbreviations = {\n",
    "    \"u\": \"you\",\n",
    "    \"ur\": \"your\",\n",
    "    \"btw\": \"by the way\",\n",
    "    \"idk\": \"I don't know\",\n",
    "    \"imo\": \"in my opinion\",\n",
    "    \"brb\": \"be right back\",\n",
    "    \"lol\": \"laughing out loud\",\n",
    "    \"omg\": \"oh my god\",\n",
    "    \"ttyl\": \"talk to you later\",\n",
    "    \"thx\": \"thanks\",\n",
    "    \"pls\": \"please\",\n",
    "    \"gr8\": \"great\",\n",
    "    \"b4\": \"before\",\n",
    "    \"l8r\": \"later\",\n",
    "    \"cya\": \"see you\",\n",
    "    \"np\": \"no problem\",\n",
    "    \"smh\": \"shaking my head\",\n",
    "    \"fyi\": \"for your information\",\n",
    "    \"asap\": \"as soon as possible\",\n",
    "    \"tbh\": \"to be honest\",\n",
    "    \"imo\": \"in my opinion\",\n",
    "    \"jk\": \"just kidding\",\n",
    "    \"rofl\": \"rolling on the floor laughing\",\n",
    "    \"wtf\": \"what the fuck\",\n",
    "    \"yolo\": \"you only live once\",\n",
    "    \"bff\": \"best friends forever\",\n",
    "    \"irl\": \"in real life\",\n",
    "    \"dm\": \"direct message\",\n",
    "    \"ftw\": \"for the win\",\n",
    "    \"fomo\": \"fear of missing out\",\n",
    "    \"tmi\": \"too much information\",\n",
    "    \"ily\": \"I love you\",\n",
    "    \"xoxo\": \"hugs and kisses\",\n",
    "    \"wyd\": \"what are you doing\",\n",
    "    \"hbu\": \"how about you\",\n",
    "    \"ikr\": \"I know right\",\n",
    "    \"nvm\": \"never mind\",\n",
    "    \"ppl\": \"people\",\n",
    "    \"sry\": \"sorry\",\n",
    "    \"thx\": \"thanks\",\n",
    "    \"ty\": \"thank you\",\n",
    "    \"yw\": \"you're welcome\",\n",
    "    \"bc\": \"because\",\n",
    "    \"cuz\": \"because\",\n",
    "    \"bday\": \"birthday\",\n",
    "    \"msg\": \"message\",\n",
    "    \"txt\": \"text\",\n",
    "    \"pic\": \"picture\",\n",
    "    \"vid\": \"video\",\n",
    "    \"atm\": \"at the moment\",\n",
    "    \"bbl\": \"be back later\",\n",
    "    \"cya\": \"see you\",\n",
    "    \"fml\": \"fuck my life\",\n",
    "    \"smh\": \"shaking my head\",\n",
    "    \"tysm\": \"thank you so much\"\n",
    "}"
   ]
  },
  {
   "cell_type": "code",
   "execution_count": 35,
   "id": "09f0bade",
   "metadata": {},
   "outputs": [],
   "source": [
    "# evaluate readability: For advanced analysis, compute readability scores. Some research suggests that spam messages have a lower readability score due to their simple language and structure.\n",
    "\n",
    "def evaluate_readability(text):\n",
    "    readability_score = textstat.flesch_kincaid_grade(text)\n",
    "    return readability_score"
   ]
  },
  {
   "cell_type": "code",
   "execution_count": 36,
   "id": "3060d06b",
   "metadata": {},
   "outputs": [
    {
     "data": {
      "text/plain": [
       "(5572, 6)"
      ]
     },
     "execution_count": 36,
     "metadata": {},
     "output_type": "execute_result"
    }
   ],
   "source": [
    "dataset1.shape"
   ]
  },
  {
   "cell_type": "code",
   "execution_count": 37,
   "id": "79e0eef3",
   "metadata": {},
   "outputs": [
    {
     "data": {
      "text/plain": [
       "(5572,)"
      ]
     },
     "execution_count": 37,
     "metadata": {},
     "output_type": "execute_result"
    }
   ],
   "source": [
    "X.shape"
   ]
  },
  {
   "cell_type": "code",
   "execution_count": 38,
   "id": "03d2ba95",
   "metadata": {},
   "outputs": [
    {
     "data": {
      "text/plain": [
       "(5572,)"
      ]
     },
     "execution_count": 38,
     "metadata": {},
     "output_type": "execute_result"
    }
   ],
   "source": [
    "y.shape"
   ]
  },
  {
   "cell_type": "markdown",
   "id": "7ab8a2ec",
   "metadata": {},
   "source": [
    "# Advanced Preprocessing Pipeline"
   ]
  },
  {
   "cell_type": "markdown",
   "id": "76c86f37",
   "metadata": {},
   "source": [
    "### Initial Cleaning"
   ]
  },
  {
   "cell_type": "code",
   "execution_count": 39,
   "id": "0854a850",
   "metadata": {},
   "outputs": [],
   "source": [
    " # convert to lowercase\n",
    "X = X.str.lower()"
   ]
  },
  {
   "cell_type": "code",
   "execution_count": 40,
   "id": "7dac6ed1",
   "metadata": {},
   "outputs": [
    {
     "data": {
      "text/plain": [
       "0    go until jurong point, crazy.. available only ...\n",
       "1                        ok lar... joking wif u oni...\n",
       "2    free entry in 2 a wkly comp to win fa cup fina...\n",
       "3    u dun say so early hor... u c already then say...\n",
       "4    nah i don't think he goes to usf, he lives aro...\n",
       "Name: v2, dtype: object"
      ]
     },
     "execution_count": 40,
     "metadata": {},
     "output_type": "execute_result"
    }
   ],
   "source": [
    "X.head()"
   ]
  },
  {
   "cell_type": "code",
   "execution_count": 41,
   "id": "32c9927d",
   "metadata": {},
   "outputs": [],
   "source": [
    "# Noise Removal\n",
    "# replace URL with token like <url>\n",
    "X = X.str.replace(r'http\\S+|www\\S+|https\\S+', '<url>', case=False, regex=True)\n",
    "\n",
    "# replace email with token like <email>\n",
    "X = X.str.replace(r'\\S+@\\S+', '<email>', case=False, regex=True)\n",
    "\n",
    "#replace phone numbers with token like <phone>\n",
    "X = X.str.replace(r'\\+?\\d[\\d -]{8,12}\\d', '<phone>', case=False, regex=True)"
   ]
  },
  {
   "cell_type": "code",
   "execution_count": 42,
   "id": "7ce54f3d",
   "metadata": {},
   "outputs": [
    {
     "data": {
      "text/plain": [
       "0    go until jurong point, crazy.. available only ...\n",
       "1                        ok lar... joking wif u oni...\n",
       "2    free entry in 2 a wkly comp to win fa cup fina...\n",
       "3    u dun say so early hor... u c already then say...\n",
       "4    nah i don't think he goes to usf, he lives aro...\n",
       "5    freemsg hey there darling it's been 3 week's n...\n",
       "6    even my brother is not like to speak with me. ...\n",
       "7    as per your request 'melle melle (oru minnamin...\n",
       "8    winner!! as a valued network customer you have...\n",
       "9    had your mobile 11 months or more? u r entitle...\n",
       "Name: v2, dtype: object"
      ]
     },
     "execution_count": 42,
     "metadata": {},
     "output_type": "execute_result"
    }
   ],
   "source": [
    "# handle encoding issue\n",
    "X = X.str.encode('utf-8', errors='ignore').str.decode('utf-8')\n",
    "X.head(10)"
   ]
  },
  {
   "cell_type": "code",
   "execution_count": 43,
   "id": "9660b594",
   "metadata": {},
   "outputs": [
    {
     "data": {
      "text/plain": [
       "0    go until jurong point, crazy.. available only ...\n",
       "1                        ok lar... joking wif u oni...\n",
       "2    free entry in 2 a wkly comp to win fa cup fina...\n",
       "3    u dun say so early hor... u c already then say...\n",
       "4    nah i dont think he goes to usf, he lives arou...\n",
       "5    freemsg hey there darling its been 3 weeks now...\n",
       "6    even my brother is not like to speak with me. ...\n",
       "7    as per your request melle melle oru minnaminun...\n",
       "8    winner!! as a valued network customer you have...\n",
       "9    had your mobile 11 months or more? u r entitle...\n",
       "Name: v2, dtype: object"
      ]
     },
     "execution_count": 43,
     "metadata": {},
     "output_type": "execute_result"
    }
   ],
   "source": [
    "# keep meaningful punctuations\n",
    "X = X.str.replace(r'[^\\w\\s,.!?]', '', regex=True)\n",
    "X.head(10)"
   ]
  },
  {
   "cell_type": "markdown",
   "id": "0102890e",
   "metadata": {},
   "source": [
    "### Feature Engineering"
   ]
  },
  {
   "cell_type": "code",
   "execution_count": 44,
   "id": "9501f55c",
   "metadata": {},
   "outputs": [
    {
     "data": {
      "text/plain": [
       "0    go until jurong point, crazy.. available only ...\n",
       "1                        ok lar... joking wif u oni...\n",
       "2    free entry in 2 a wkly comp to win fa cup fina...\n",
       "3    u dun say so early hor... u c already then say...\n",
       "4    nah i dont think he goes to usf, he lives arou...\n",
       "5    freemsg hey there darling its been 3 weeks now...\n",
       "6    even my brother is not like to speak with me. ...\n",
       "7    as per your request melle melle oru minnaminun...\n",
       "8    winner!! as a valued network customer you have...\n",
       "9    had your mobile 11 months or more? u r entitle...\n",
       "Name: v2, dtype: object"
      ]
     },
     "execution_count": 44,
     "metadata": {},
     "output_type": "execute_result"
    }
   ],
   "source": [
    "# currency and transaction tokenization\n",
    "X = X.str.replace(r'\\$\\d+(\\.\\d{2})?', '<money>', regex=True)\n",
    "X = X.str.replace(r'\\d+%','<percentage>', regex=True)\n",
    "X.head(10)"
   ]
  },
  {
   "cell_type": "code",
   "execution_count": 45,
   "id": "b52c0f16",
   "metadata": {},
   "outputs": [
    {
     "data": {
      "text/plain": [
       "0    go until jurong point, crazy.. available only ...\n",
       "1                        ok lar... joking wif u oni...\n",
       "2    free entry in 2 a wkly comp to win fa cup fina...\n",
       "3    u dun say so early hor... u c already then say...\n",
       "4    nah i dont think he goes to usf, he lives arou...\n",
       "5    freemsg hey there darling its been 3 weeks now...\n",
       "6    even my brother is not like to speak with me. ...\n",
       "7    as per your request melle melle oru minnaminun...\n",
       "8    winner!! as a valued network customer you have...\n",
       "9    had your mobile 11 months or more? u r entitle...\n",
       "Name: v2, dtype: object"
      ]
     },
     "execution_count": 45,
     "metadata": {},
     "output_type": "execute_result"
    }
   ],
   "source": [
    "# capital letter ratio in the whole dataset\n",
    "X = X.str.replace(r'([A-Z]{2,})', lambda m: m.group(1).lower(), regex=True)\n",
    "X.head(10)"
   ]
  },
  {
   "cell_type": "markdown",
   "id": "be491eab",
   "metadata": {},
   "source": [
    "### Advanced Text processing"
   ]
  },
  {
   "cell_type": "markdown",
   "id": "2dfc018f",
   "metadata": {},
   "source": [
    "### Word Level Tokenization"
   ]
  },
  {
   "cell_type": "code",
   "execution_count": 46,
   "id": "c973d9bd",
   "metadata": {},
   "outputs": [
    {
     "name": "stdout",
     "output_type": "stream",
     "text": [
      "Tokenizing messages...\n",
      "Tokenization complete!\n",
      "\n",
      "Sample tokenized messages:\n",
      "0    [go, until, jurong, point, ,, crazy, .., avail...\n",
      "1             [ok, lar, ..., joking, wif, u, oni, ...]\n",
      "2    [free, entry, in, 2, a, wkly, comp, to, win, f...\n",
      "3    [u, dun, say, so, early, hor, ..., u, c, alrea...\n",
      "4    [nah, i, dont, think, he, goes, to, usf, ,, he...\n",
      "Name: v2, dtype: object\n"
     ]
    }
   ],
   "source": [
    "from nltk.tokenize import word_tokenize\n",
    "import nltk\n",
    "\n",
    "# Download required NLTK data\n",
    "nltk.download('punkt_tab', quiet=True)\n",
    "\n",
    "def safe_tokenize(text):\n",
    "    try:\n",
    "        return word_tokenize(str(text))\n",
    "    except Exception as e:\n",
    "        print(f\"Error tokenizing text: {e}\")\n",
    "        return str(text).split()\n",
    "\n",
    "# Apply tokenization\n",
    "print(\"Tokenizing messages...\")\n",
    "X = X.apply(safe_tokenize)\n",
    "print(\"Tokenization complete!\\n\")\n",
    "print(\"Sample tokenized messages:\")\n",
    "print(X.head())"
   ]
  },
  {
   "cell_type": "code",
   "execution_count": 47,
   "id": "0c7610e6",
   "metadata": {},
   "outputs": [
    {
     "data": {
      "text/plain": [
       "0    [go, jurong, point, ,, crazy, .., available, b...\n",
       "1             [ok, lar, ..., joking, wif, u, oni, ...]\n",
       "2    [free, entry, 2, wkly, comp, win, fa, cup, fin...\n",
       "3    [u, dun, say, early, hor, ..., u, c, already, ...\n",
       "4    [nah, dont, think, goes, usf, ,, lives, around...\n",
       "5    [freemsg, hey, darling, 3, weeks, word, back, ...\n",
       "6    [even, brother, like, speak, ., treat, like, a...\n",
       "7    [per, request, melle, melle, oru, minnaminungi...\n",
       "8    [winner, !, !, valued, network, customer, sele...\n",
       "9    [mobile, 11, months, ?, u, r, entitled, update...\n",
       "Name: v2, dtype: object"
      ]
     },
     "execution_count": 47,
     "metadata": {},
     "output_type": "execute_result"
    }
   ],
   "source": [
    "# stop word removal\n",
    "from nltk.corpus import stopwords\n",
    "nltk.download('stopwords', quiet=True)\n",
    "stop_words = set(stopwords.words('english'))\n",
    "X = X.apply(lambda tokens: [word for word in tokens if word not in stop_words])\n",
    "X.head(10)"
   ]
  },
  {
   "cell_type": "markdown",
   "id": "93dc15dc",
   "metadata": {},
   "source": [
    "### lemmatization"
   ]
  },
  {
   "cell_type": "code",
   "execution_count": 48,
   "id": "d4b92da5",
   "metadata": {},
   "outputs": [
    {
     "data": {
      "text/plain": [
       "0    [go, jurong, point, ,, crazy, .., available, b...\n",
       "1             [ok, lar, ..., joking, wif, u, oni, ...]\n",
       "2    [free, entry, 2, wkly, comp, win, fa, cup, fin...\n",
       "3    [u, dun, say, early, hor, ..., u, c, already, ...\n",
       "4    [nah, dont, think, go, usf, ,, life, around, t...\n",
       "5    [freemsg, hey, darling, 3, week, word, back, !...\n",
       "6    [even, brother, like, speak, ., treat, like, a...\n",
       "7    [per, request, melle, melle, oru, minnaminungi...\n",
       "8    [winner, !, !, valued, network, customer, sele...\n",
       "9    [mobile, 11, month, ?, u, r, entitled, update,...\n",
       "Name: v2, dtype: object"
      ]
     },
     "execution_count": 48,
     "metadata": {},
     "output_type": "execute_result"
    }
   ],
   "source": [
    "# accurate lemmatization using WordNetLemmatizer\n",
    "from nltk.stem import WordNetLemmatizer\n",
    "nltk.download('wordnet', quiet=True)\n",
    "nltk.download('omw-1.4', quiet=True)\n",
    "lemmatizer = WordNetLemmatizer()\n",
    "X = X.apply(lambda tokens: [lemmatizer.lemmatize(word) for word in tokens])\n",
    "X.head(10)"
   ]
  },
  {
   "cell_type": "markdown",
   "id": "82d79db5",
   "metadata": {},
   "source": [
    "### Spelling  Correction"
   ]
  },
  {
   "cell_type": "code",
   "execution_count": 49,
   "id": "9cb26b82",
   "metadata": {},
   "outputs": [
    {
     "name": "stdout",
     "output_type": "stream",
     "text": [
      "Correcting spelling...\n",
      "Spelling correction complete!\n",
      "\n",
      "Sample corrected messages:\n",
      "0    [go, during, point, ,, crazy, .., available, b...\n",
      "1               [ok, war, ..., joking, if, u, on, ...]\n",
      "2    [free, entry, 2, wily, come, win, a, cup, fina...\n",
      "3    [u, dun, say, early, for, ..., u, c, already, ...\n",
      "4    [ah, dont, think, go, us, ,, life, around, tho...\n",
      "5    [freemen, hey, darling, 3, week, word, back, !...\n",
      "6    [even, brother, like, speak, ., treat, like, a...\n",
      "7    [per, request, selle, selle, or, minnaminungin...\n",
      "8    [winner, !, !, valued, network, customer, sele...\n",
      "9    [mobile, 11, month, ?, u, r, entitled, update,...\n",
      "Name: v2, dtype: object\n"
     ]
    }
   ],
   "source": [
    "# spelling correction\n",
    "from textblob import TextBlob\n",
    "\n",
    "def correct_spelling(text):\n",
    "    try:\n",
    "        return str(TextBlob(text).correct())\n",
    "    except Exception as e:\n",
    "        print(f\"Error correcting spelling: {e}\")\n",
    "        return text\n",
    "\n",
    "# Apply spelling correction\n",
    "print(\"Correcting spelling...\")\n",
    "X = X.apply(lambda tokens: [correct_spelling(word) for word in tokens])\n",
    "print(\"Spelling correction complete!\\n\")\n",
    "print(\"Sample corrected messages:\")\n",
    "print(X.head(10))"
   ]
  },
  {
   "cell_type": "code",
   "execution_count": 50,
   "id": "7e395dd4",
   "metadata": {},
   "outputs": [
    {
     "name": "stderr",
     "output_type": "stream",
     "text": [
      "c:\\Users\\bdcalling123\\AppData\\Local\\Programs\\Python\\Python313\\Lib\\site-packages\\tqdm\\auto.py:21: TqdmWarning: IProgress not found. Please update jupyter and ipywidgets. See https://ipywidgets.readthedocs.io/en/stable/user_install.html\n",
      "  from .autonotebook import tqdm as notebook_tqdm\n"
     ]
    }
   ],
   "source": [
    "from transformers import BertTokenizer\n",
    "\n",
    "# Load the BERT tokenizer for uncased English text\n",
    "tokenizer = BertTokenizer.from_pretrained('bert-base-uncased')\n",
    "\n",
    "def tokenize_and_pad(texts, max_length=512):\n",
    "    \"\"\"\n",
    "    Tokenize, truncate, and pad: Convert text messages into input IDs and an attention mask.\n",
    "    Add special tokens ([CLS] at the beginning and [SEP] at the end) as BERT expects.\n",
    "    Truncate longer sequences that exceed BERT's maximum sequence length (typically 512 tokens).\n",
    "    Pad shorter sequences with [PAD] tokens so that all messages have the same length.\n",
    "    \n",
    "    Args:\n",
    "        texts: List, pandas Series, or DataFrame of text strings to tokenize. If DataFrame, uses the first column.\n",
    "        max_length: Maximum sequence length for truncation and padding.\n",
    "    \n",
    "    Returns:\n",
    "        Dict with 'input_ids' and 'attention_mask' as PyTorch tensors.\n",
    "    \"\"\"\n",
    "    # Handle DataFrame input by selecting the first text column\n",
    "    if hasattr(texts, 'columns'):\n",
    "        texts = texts.iloc[:, 0]\n",
    "    \n",
    "    # Ensure texts is a list of strings, handling potential nested sequences\n",
    "    tokenized_texts = []\n",
    "    for item in texts:\n",
    "        if isinstance(item, (list, tuple)):\n",
    "            # Join nested sequences into a single string\n",
    "            tokenized_texts.append(' '.join(str(subitem) for subitem in item))\n",
    "        else:\n",
    "            tokenized_texts.append(str(item))\n",
    "    \n",
    "    # Tokenize and encode the texts: adds special tokens, truncates, and pads\n",
    "    encodings = tokenizer(\n",
    "        tokenized_texts,\n",
    "        truncation=True,\n",
    "        padding=True,\n",
    "        max_length=max_length,\n",
    "        return_tensors='pt'\n",
    "    )\n",
    "    \n",
    "    # The encodings include input_ids (token indices) and attention_mask (1s for real tokens, 0s for padding)\n",
    "    return encodings\n",
    "\n",
    "# Assuming X is a list, Series, or DataFrame of text messages\n",
    "X = tokenize_and_pad(X)"
   ]
  },
  {
   "cell_type": "code",
   "execution_count": 51,
   "id": "72c4fe7b",
   "metadata": {},
   "outputs": [
    {
     "name": "stdout",
     "output_type": "stream",
     "text": [
      "tensor([[ 101, 2175, 2076,  ...,    0,    0,    0],\n",
      "        [ 101, 7929, 2162,  ...,    0,    0,    0],\n",
      "        [ 101, 2489, 4443,  ...,    0,    0,    0],\n",
      "        ...,\n",
      "        [ 101, 2566, 5227,  ...,    0,    0,    0],\n",
      "        [ 101, 3453,  999,  ...,    0,    0,    0],\n",
      "        [ 101, 4684, 2340,  ...,    0,    0,    0]])\n"
     ]
    }
   ],
   "source": [
    "# show te head of the tokenized and padded input IDs\n",
    "print(X['input_ids'][:10])"
   ]
  },
  {
   "cell_type": "markdown",
   "id": "14efd510",
   "metadata": {},
   "source": [
    "### Create Attention Masks"
   ]
  },
  {
   "cell_type": "code",
   "execution_count": 52,
   "id": "f0df7b2d",
   "metadata": {},
   "outputs": [
    {
     "data": {
      "text/plain": [
       "tensor([[1, 1, 1, 1, 1, 1, 0, 0],\n",
       "        [1, 1, 1, 1, 1, 1, 1, 1],\n",
       "        [1, 1, 1, 1, 1, 0, 0, 0]])"
      ]
     },
     "execution_count": 52,
     "metadata": {},
     "output_type": "execute_result"
    }
   ],
   "source": [
    "from transformers import BertTokenizer\n",
    "\n",
    "# Load the BERT tokenizer for uncased English text\n",
    "tokenizer = BertTokenizer.from_pretrained('bert-base-uncased')\n",
    "\n",
    "def tokenize_and_pad(texts, max_length=512):\n",
    "    # Handle DataFrame input by selecting the first text column\n",
    "    if hasattr(texts, 'columns'):\n",
    "        texts = texts.iloc[:, 0]\n",
    "    \n",
    "    # Ensure texts is a list of strings, handling potential nested sequences\n",
    "    tokenized_texts = []\n",
    "    for item in texts:\n",
    "        if isinstance(item, (list, tuple)):\n",
    "            # Join nested sequences into a single string\n",
    "            tokenized_texts.append(' '.join(str(subitem) for subitem in item))\n",
    "        else:\n",
    "            tokenized_texts.append(str(item))\n",
    "    \n",
    "    # Tokenize and encode the texts: adds special tokens, truncates, and pads\n",
    "    encodings = tokenizer(\n",
    "        tokenized_texts,\n",
    "        truncation=True,\n",
    "        padding=True,\n",
    "        max_length=max_length,\n",
    "        return_tensors='pt'\n",
    "    )\n",
    "    \n",
    "    # The encodings include input_ids (token indices) and attention_mask (1s for real tokens, 0s for padding)\n",
    "    return encodings\n",
    "\n",
    "# Assuming X is a list, Series, or DataFrame of text messages\n",
    "X = tokenize_and_pad(X)\n",
    "\n",
    "# Note: X['attention_mask'] is already available and equivalent to the manual computation below.\n",
    "# Create attention masks: Generate an attention mask to distinguish real tokens from padding tokens.\n",
    "# This is a binary array indicating whether the model should \"pay attention\" to a token (1) or ignore it (0).\n",
    "attention_masks = (X['input_ids'] != tokenizer.pad_token_id).long()\n",
    "attention_masks[:10]"
   ]
  },
  {
   "cell_type": "markdown",
   "id": "a28fcc5d",
   "metadata": {},
   "source": [
    "### Data Augtmentation"
   ]
  },
  {
   "cell_type": "code",
   "execution_count": null,
   "id": "2e0d6ad6",
   "metadata": {},
   "outputs": [],
   "source": [
    "# using data augmentation To improve the model's robustness and accuracy on a small mobile device, use techniques like synonym replacement or back-translation to generate more training examples.\n"
   ]
  },
  {
   "cell_type": "code",
   "execution_count": 53,
   "id": "c786a53f",
   "metadata": {},
   "outputs": [
    {
     "name": "stdout",
     "output_type": "stream",
     "text": [
      "Collecting nlpaug\n",
      "  Downloading nlpaug-1.1.11-py3-none-any.whl.metadata (14 kB)\n",
      "Requirement already satisfied: numpy>=1.16.2 in c:\\users\\bdcalling123\\appdata\\local\\programs\\python\\python313\\lib\\site-packages (from nlpaug) (2.3.3)\n",
      "Requirement already satisfied: pandas>=1.2.0 in c:\\users\\bdcalling123\\appdata\\local\\programs\\python\\python313\\lib\\site-packages (from nlpaug) (2.3.2)\n",
      "Requirement already satisfied: requests>=2.22.0 in c:\\users\\bdcalling123\\appdata\\local\\programs\\python\\python313\\lib\\site-packages (from nlpaug) (2.32.5)\n",
      "Collecting gdown>=4.0.0 (from nlpaug)\n",
      "  Downloading gdown-5.2.0-py3-none-any.whl.metadata (5.8 kB)\n",
      "Requirement already satisfied: beautifulsoup4 in c:\\users\\bdcalling123\\appdata\\local\\programs\\python\\python313\\lib\\site-packages (from gdown>=4.0.0->nlpaug) (4.13.5)\n",
      "Requirement already satisfied: filelock in c:\\users\\bdcalling123\\appdata\\local\\programs\\python\\python313\\lib\\site-packages (from gdown>=4.0.0->nlpaug) (3.19.1)\n",
      "Requirement already satisfied: tqdm in c:\\users\\bdcalling123\\appdata\\local\\programs\\python\\python313\\lib\\site-packages (from gdown>=4.0.0->nlpaug) (4.67.1)\n",
      "Requirement already satisfied: python-dateutil>=2.8.2 in c:\\users\\bdcalling123\\appdata\\local\\programs\\python\\python313\\lib\\site-packages (from pandas>=1.2.0->nlpaug) (2.9.0.post0)\n",
      "Requirement already satisfied: pytz>=2020.1 in c:\\users\\bdcalling123\\appdata\\local\\programs\\python\\python313\\lib\\site-packages (from pandas>=1.2.0->nlpaug) (2025.2)\n",
      "Requirement already satisfied: tzdata>=2022.7 in c:\\users\\bdcalling123\\appdata\\local\\programs\\python\\python313\\lib\\site-packages (from pandas>=1.2.0->nlpaug) (2025.2)\n",
      "Requirement already satisfied: six>=1.5 in c:\\users\\bdcalling123\\appdata\\local\\programs\\python\\python313\\lib\\site-packages (from python-dateutil>=2.8.2->pandas>=1.2.0->nlpaug) (1.17.0)\n",
      "Requirement already satisfied: charset_normalizer<4,>=2 in c:\\users\\bdcalling123\\appdata\\local\\programs\\python\\python313\\lib\\site-packages (from requests>=2.22.0->nlpaug) (3.4.3)\n",
      "Requirement already satisfied: idna<4,>=2.5 in c:\\users\\bdcalling123\\appdata\\local\\programs\\python\\python313\\lib\\site-packages (from requests>=2.22.0->nlpaug) (3.10)\n",
      "Requirement already satisfied: urllib3<3,>=1.21.1 in c:\\users\\bdcalling123\\appdata\\local\\programs\\python\\python313\\lib\\site-packages (from requests>=2.22.0->nlpaug) (2.5.0)\n",
      "Requirement already satisfied: certifi>=2017.4.17 in c:\\users\\bdcalling123\\appdata\\local\\programs\\python\\python313\\lib\\site-packages (from requests>=2.22.0->nlpaug) (2025.8.3)\n",
      "Requirement already satisfied: soupsieve>1.2 in c:\\users\\bdcalling123\\appdata\\local\\programs\\python\\python313\\lib\\site-packages (from beautifulsoup4->gdown>=4.0.0->nlpaug) (2.8)\n",
      "Requirement already satisfied: typing-extensions>=4.0.0 in c:\\users\\bdcalling123\\appdata\\local\\programs\\python\\python313\\lib\\site-packages (from beautifulsoup4->gdown>=4.0.0->nlpaug) (4.15.0)\n",
      "Collecting PySocks!=1.5.7,>=1.5.6 (from requests[socks]->gdown>=4.0.0->nlpaug)\n",
      "  Downloading PySocks-1.7.1-py3-none-any.whl.metadata (13 kB)\n",
      "Requirement already satisfied: colorama in c:\\users\\bdcalling123\\appdata\\local\\programs\\python\\python313\\lib\\site-packages (from tqdm->gdown>=4.0.0->nlpaug) (0.4.6)\n",
      "Downloading nlpaug-1.1.11-py3-none-any.whl (410 kB)\n",
      "Downloading gdown-5.2.0-py3-none-any.whl (18 kB)\n",
      "Downloading PySocks-1.7.1-py3-none-any.whl (16 kB)\n",
      "Installing collected packages: PySocks, gdown, nlpaug\n",
      "\n",
      "   ------------- -------------------------- 1/3 [gdown]\n",
      "   -------------------------- ------------- 2/3 [nlpaug]\n",
      "   -------------------------- ------------- 2/3 [nlpaug]\n",
      "   -------------------------- ------------- 2/3 [nlpaug]\n",
      "   -------------------------- ------------- 2/3 [nlpaug]\n",
      "   -------------------------- ------------- 2/3 [nlpaug]\n",
      "   -------------------------- ------------- 2/3 [nlpaug]\n",
      "   -------------------------- ------------- 2/3 [nlpaug]\n",
      "   -------------------------- ------------- 2/3 [nlpaug]\n",
      "   -------------------------- ------------- 2/3 [nlpaug]\n",
      "   -------------------------- ------------- 2/3 [nlpaug]\n",
      "   ---------------------------------------- 3/3 [nlpaug]\n",
      "\n",
      "Successfully installed PySocks-1.7.1 gdown-5.2.0 nlpaug-1.1.11\n"
     ]
    }
   ],
   "source": [
    "# Install required packages for data augmentation\n",
    "!pip install nlpaug"
   ]
  },
  {
   "cell_type": "code",
   "execution_count": 54,
   "id": "6597bf88",
   "metadata": {},
   "outputs": [
    {
     "name": "stderr",
     "output_type": "stream",
     "text": [
      "[nltk_data] Downloading package wordnet to\n",
      "[nltk_data]     C:\\Users\\bdcalling123\\AppData\\Roaming\\nltk_data...\n",
      "[nltk_data]   Package wordnet is already up-to-date!\n",
      "[nltk_data] Downloading package averaged_perceptron_tagger to\n",
      "[nltk_data]     C:\\Users\\bdcalling123\\AppData\\Roaming\\nltk_data...\n"
     ]
    },
    {
     "name": "stdout",
     "output_type": "stream",
     "text": [
      "Error in augmentation: \n",
      "**********************************************************************\n",
      "  Resource \u001b[93maveraged_perceptron_tagger_eng\u001b[0m not found.\n",
      "  Please use the NLTK Downloader to obtain the resource:\n",
      "\n",
      "  \u001b[31m>>> import nltk\n",
      "  >>> nltk.download('averaged_perceptron_tagger_eng')\n",
      "  \u001b[0m\n",
      "  For more information see: https://www.nltk.org/data.html\n",
      "\n",
      "  Attempted to load \u001b[93mtaggers/averaged_perceptron_tagger_eng\u001b[0m\n",
      "\n",
      "  Searched in:\n",
      "    - 'C:\\\\Users\\\\bdcalling123/nltk_data'\n",
      "    - 'c:\\\\Users\\\\bdcalling123\\\\AppData\\\\Local\\\\Programs\\\\Python\\\\Python313\\\\nltk_data'\n",
      "    - 'c:\\\\Users\\\\bdcalling123\\\\AppData\\\\Local\\\\Programs\\\\Python\\\\Python313\\\\share\\\\nltk_data'\n",
      "    - 'c:\\\\Users\\\\bdcalling123\\\\AppData\\\\Local\\\\Programs\\\\Python\\\\Python313\\\\lib\\\\nltk_data'\n",
      "    - 'C:\\\\Users\\\\bdcalling123\\\\AppData\\\\Roaming\\\\nltk_data'\n",
      "    - 'C:\\\\nltk_data'\n",
      "    - 'D:\\\\nltk_data'\n",
      "    - 'E:\\\\nltk_data'\n",
      "**********************************************************************\n",
      "\n",
      "Original: Hello, how are you today? I am feeling great!\n",
      "Augmented versions:\n",
      "1: Hello, how are you today? I am feeling great!\n"
     ]
    },
    {
     "name": "stderr",
     "output_type": "stream",
     "text": [
      "[nltk_data]   Unzipping taggers\\averaged_perceptron_tagger.zip.\n",
      "[nltk_data] Downloading package averaged_perceptron_tagger to\n",
      "[nltk_data]     C:\\Users\\bdcalling123\\AppData\\Roaming\\nltk_data...\n",
      "[nltk_data]   Package averaged_perceptron_tagger is already up-to-\n",
      "[nltk_data]       date!\n"
     ]
    }
   ],
   "source": [
    "import nlpaug.augmenter.word as naw\n",
    "import nltk\n",
    "import random\n",
    "\n",
    "# Download required NLTK data\n",
    "nltk.download('wordnet')\n",
    "nltk.download('averaged_perceptron_tagger')\n",
    "\n",
    "def augment_text_with_synonyms(text, n_aug=1):\n",
    "    \"\"\"\n",
    "    Augment text using synonym replacement\n",
    "    Args:\n",
    "        text: Input text string\n",
    "        n_aug: Number of augmented versions to generate\n",
    "    Returns:\n",
    "        List of augmented texts\n",
    "    \"\"\"\n",
    "    # Initialize augmenter\n",
    "    aug = naw.SynonymAug(aug_src='wordnet')\n",
    "    \n",
    "    try:\n",
    "        # Generate augmented versions\n",
    "        augmented_texts = [aug.augment(text)[0] for _ in range(n_aug)]\n",
    "        return augmented_texts\n",
    "    except Exception as e:\n",
    "        print(f\"Error in augmentation: {e}\")\n",
    "        return [text]  # Return original text if augmentation fails\n",
    "\n",
    "# Test the function\n",
    "sample_text = \"Hello, how are you today? I am feeling great!\"\n",
    "augmented = augment_text_with_synonyms(sample_text, n_aug=2)\n",
    "print(\"Original:\", sample_text)\n",
    "print(\"Augmented versions:\")\n",
    "for i, aug_text in enumerate(augmented, 1):\n",
    "    print(f\"{i}:\", aug_text)"
   ]
  },
  {
   "cell_type": "code",
   "execution_count": 57,
   "id": "c3f82739",
   "metadata": {},
   "outputs": [
    {
     "data": {
      "text/html": [
       "<div>\n",
       "<style scoped>\n",
       "    .dataframe tbody tr th:only-of-type {\n",
       "        vertical-align: middle;\n",
       "    }\n",
       "\n",
       "    .dataframe tbody tr th {\n",
       "        vertical-align: top;\n",
       "    }\n",
       "\n",
       "    .dataframe thead th {\n",
       "        text-align: right;\n",
       "    }\n",
       "</style>\n",
       "<table border=\"1\" class=\"dataframe\">\n",
       "  <thead>\n",
       "    <tr style=\"text-align: right;\">\n",
       "      <th></th>\n",
       "      <th>v1</th>\n",
       "      <th>v2</th>\n",
       "      <th>length</th>\n",
       "      <th>punctuation_count</th>\n",
       "      <th>digit_count</th>\n",
       "      <th>url_count</th>\n",
       "    </tr>\n",
       "  </thead>\n",
       "  <tbody>\n",
       "    <tr>\n",
       "      <th>0</th>\n",
       "      <td>ham</td>\n",
       "      <td>Go until jurong point, crazy.. Available only ...</td>\n",
       "      <td>111</td>\n",
       "      <td>9</td>\n",
       "      <td>0</td>\n",
       "      <td>0</td>\n",
       "    </tr>\n",
       "    <tr>\n",
       "      <th>1</th>\n",
       "      <td>ham</td>\n",
       "      <td>Ok lar... Joking wif u oni...</td>\n",
       "      <td>29</td>\n",
       "      <td>6</td>\n",
       "      <td>0</td>\n",
       "      <td>0</td>\n",
       "    </tr>\n",
       "    <tr>\n",
       "      <th>2</th>\n",
       "      <td>spam</td>\n",
       "      <td>Free entry in 2 a wkly comp to win FA Cup fina...</td>\n",
       "      <td>155</td>\n",
       "      <td>6</td>\n",
       "      <td>25</td>\n",
       "      <td>0</td>\n",
       "    </tr>\n",
       "    <tr>\n",
       "      <th>3</th>\n",
       "      <td>ham</td>\n",
       "      <td>U dun say so early hor... U c already then say...</td>\n",
       "      <td>49</td>\n",
       "      <td>6</td>\n",
       "      <td>0</td>\n",
       "      <td>0</td>\n",
       "    </tr>\n",
       "    <tr>\n",
       "      <th>4</th>\n",
       "      <td>ham</td>\n",
       "      <td>Nah I don't think he goes to usf, he lives aro...</td>\n",
       "      <td>61</td>\n",
       "      <td>2</td>\n",
       "      <td>0</td>\n",
       "      <td>0</td>\n",
       "    </tr>\n",
       "  </tbody>\n",
       "</table>\n",
       "</div>"
      ],
      "text/plain": [
       "     v1                                                 v2  length  \\\n",
       "0   ham  Go until jurong point, crazy.. Available only ...     111   \n",
       "1   ham                      Ok lar... Joking wif u oni...      29   \n",
       "2  spam  Free entry in 2 a wkly comp to win FA Cup fina...     155   \n",
       "3   ham  U dun say so early hor... U c already then say...      49   \n",
       "4   ham  Nah I don't think he goes to usf, he lives aro...      61   \n",
       "\n",
       "   punctuation_count  digit_count  url_count  \n",
       "0                  9            0          0  \n",
       "1                  6            0          0  \n",
       "2                  6           25          0  \n",
       "3                  6            0          0  \n",
       "4                  2            0          0  "
      ]
     },
     "execution_count": 57,
     "metadata": {},
     "output_type": "execute_result"
    }
   ],
   "source": [
    "dataset1.head()"
   ]
  },
  {
   "cell_type": "markdown",
   "id": "c708831a",
   "metadata": {},
   "source": [
    "# Model Architecture Design"
   ]
  },
  {
   "cell_type": "code",
   "execution_count": 59,
   "id": "13e75c75",
   "metadata": {},
   "outputs": [
    {
     "name": "stdout",
     "output_type": "stream",
     "text": [
      "Collecting hf_xet\n",
      "  Downloading hf_xet-1.1.10-cp37-abi3-win_amd64.whl.metadata (4.7 kB)\n",
      "Downloading hf_xet-1.1.10-cp37-abi3-win_amd64.whl (2.8 MB)\n",
      "   ---------------------------------------- 0.0/2.8 MB ? eta -:--:--\n",
      "   --- ------------------------------------ 0.3/2.8 MB ? eta -:--:--\n",
      "   ---------------------------------------- 2.8/2.8 MB 12.5 MB/s  0:00:00\n",
      "Installing collected packages: hf_xet\n",
      "Successfully installed hf_xet-1.1.10\n"
     ]
    }
   ],
   "source": [
    "!pip install hf_xet"
   ]
  },
  {
   "cell_type": "code",
   "execution_count": 60,
   "id": "a4ddeb15",
   "metadata": {},
   "outputs": [
    {
     "name": "stderr",
     "output_type": "stream",
     "text": [
      "Some weights of DistilBertForSequenceClassification were not initialized from the model checkpoint at distilbert-base-uncased and are newly initialized: ['classifier.bias', 'classifier.weight', 'pre_classifier.bias', 'pre_classifier.weight']\n",
      "You should probably TRAIN this model on a down-stream task to be able to use it for predictions and inference.\n"
     ]
    }
   ],
   "source": [
    "# using distilBERT model from huggingface: use distilbert-base-uncased\n",
    "from transformers import DistilBertTokenizer, DistilBertForSequenceClassification\n",
    "\n",
    "tokenizer = DistilBertTokenizer.from_pretrained(\"distilbert-base-uncased\")\n",
    "model = DistilBertForSequenceClassification.from_pretrained(\"distilbert-base-uncased\", num_labels=2)"
   ]
  },
  {
   "cell_type": "code",
   "execution_count": 61,
   "id": "4e5c1261",
   "metadata": {},
   "outputs": [],
   "source": [
    "# define classification head :Add a classification head (a dense layer) on top of the DistilBERT model specifically for the spam/ham binary classification task\n",
    "import torch\n",
    "class SpamHamClassifier(torch.nn.Module):\n",
    "    def __init__(self, distilbert_model):\n",
    "        super(SpamHamClassifier, self).__init__()\n",
    "        self.distilbert = distilbert_model\n",
    "        self.classifier = torch.nn.Linear(self.distilbert.config.hidden_size, 2)  # Binary classification (spam vs ham)\n",
    "    \n",
    "    def forward(self, input_ids, attention_mask):\n",
    "        outputs = self.distilbert(input_ids=input_ids, attention_mask=attention_mask)\n",
    "        hidden_state = outputs.last_hidden_state  # (batch_size, sequence_length, hidden_size)\n",
    "        pooled_output = hidden_state[:, 0]  # Take the representation of [CLS] token\n",
    "        logits = self.classifier(pooled_output)  # (batch_size, num_labels)\n",
    "        return logits\n",
    "classifier_model = SpamHamClassifier(model)"
   ]
  },
  {
   "cell_type": "markdown",
   "id": "1e672e77",
   "metadata": {},
   "source": [
    "# Fine Tuning the Model"
   ]
  },
  {
   "cell_type": "code",
   "execution_count": 67,
   "id": "950fe93b",
   "metadata": {},
   "outputs": [
    {
     "name": "stdout",
     "output_type": "stream",
     "text": [
      "Requirement already satisfied: torch in c:\\users\\bdcalling123\\appdata\\local\\programs\\python\\python313\\lib\\site-packages (2.8.0)\n",
      "Collecting torchvision\n",
      "  Using cached torchvision-0.23.0-cp313-cp313-win_amd64.whl.metadata (6.1 kB)\n",
      "Collecting torchaudio\n",
      "  Downloading torchaudio-2.8.0-cp313-cp313-win_amd64.whl.metadata (7.2 kB)\n",
      "Requirement already satisfied: filelock in c:\\users\\bdcalling123\\appdata\\local\\programs\\python\\python313\\lib\\site-packages (from torch) (3.19.1)\n",
      "Requirement already satisfied: typing-extensions>=4.10.0 in c:\\users\\bdcalling123\\appdata\\local\\programs\\python\\python313\\lib\\site-packages (from torch) (4.15.0)\n",
      "Requirement already satisfied: sympy>=1.13.3 in c:\\users\\bdcalling123\\appdata\\local\\programs\\python\\python313\\lib\\site-packages (from torch) (1.14.0)\n",
      "Requirement already satisfied: networkx in c:\\users\\bdcalling123\\appdata\\local\\programs\\python\\python313\\lib\\site-packages (from torch) (3.5)\n",
      "Requirement already satisfied: jinja2 in c:\\users\\bdcalling123\\appdata\\local\\programs\\python\\python313\\lib\\site-packages (from torch) (3.1.6)\n",
      "Requirement already satisfied: fsspec in c:\\users\\bdcalling123\\appdata\\local\\programs\\python\\python313\\lib\\site-packages (from torch) (2025.9.0)\n",
      "Requirement already satisfied: setuptools in c:\\users\\bdcalling123\\appdata\\local\\programs\\python\\python313\\lib\\site-packages (from torch) (80.9.0)\n",
      "Requirement already satisfied: numpy in c:\\users\\bdcalling123\\appdata\\local\\programs\\python\\python313\\lib\\site-packages (from torchvision) (2.3.3)\n",
      "Requirement already satisfied: pillow!=8.3.*,>=5.3.0 in c:\\users\\bdcalling123\\appdata\\local\\programs\\python\\python313\\lib\\site-packages (from torchvision) (11.3.0)\n",
      "Requirement already satisfied: mpmath<1.4,>=1.1.0 in c:\\users\\bdcalling123\\appdata\\local\\programs\\python\\python313\\lib\\site-packages (from sympy>=1.13.3->torch) (1.3.0)\n",
      "Requirement already satisfied: MarkupSafe>=2.0 in c:\\users\\bdcalling123\\appdata\\local\\programs\\python\\python313\\lib\\site-packages (from jinja2->torch) (3.0.2)\n",
      "Using cached torchvision-0.23.0-cp313-cp313-win_amd64.whl (1.6 MB)\n",
      "Downloading torchaudio-2.8.0-cp313-cp313-win_amd64.whl (2.5 MB)\n",
      "   ---------------------------------------- 0.0/2.5 MB ? eta -:--:--\n",
      "   ---------------------------------------- 2.5/2.5 MB 60.3 MB/s  0:00:00\n",
      "Installing collected packages: torchvision, torchaudio\n",
      "\n",
      "   ---------------------------------------- 0/2 [torchvision]\n",
      "   ---------------------------------------- 0/2 [torchvision]\n",
      "   ---------------------------------------- 0/2 [torchvision]\n",
      "   ---------------------------------------- 0/2 [torchvision]\n",
      "   ---------------------------------------- 0/2 [torchvision]\n",
      "   ---------------------------------------- 0/2 [torchvision]\n",
      "   ---------------------------------------- 0/2 [torchvision]\n",
      "   ---------------------------------------- 0/2 [torchvision]\n",
      "   ---------------------------------------- 0/2 [torchvision]\n",
      "   ---------------------------------------- 0/2 [torchvision]\n",
      "   ---------------------------------------- 0/2 [torchvision]\n",
      "   ---------------------------------------- 0/2 [torchvision]\n",
      "   -------------------- ------------------- 1/2 [torchaudio]\n",
      "   -------------------- ------------------- 1/2 [torchaudio]\n",
      "   -------------------- ------------------- 1/2 [torchaudio]\n",
      "   -------------------- ------------------- 1/2 [torchaudio]\n",
      "   -------------------- ------------------- 1/2 [torchaudio]\n",
      "   -------------------- ------------------- 1/2 [torchaudio]\n",
      "   -------------------- ------------------- 1/2 [torchaudio]\n",
      "   -------------------- ------------------- 1/2 [torchaudio]\n",
      "   ---------------------------------------- 2/2 [torchaudio]\n",
      "\n",
      "Successfully installed torchaudio-2.8.0 torchvision-0.23.0\n"
     ]
    }
   ],
   "source": [
    "!pip3 install torch torchvision torchaudio"
   ]
  },
  {
   "cell_type": "code",
   "execution_count": 74,
   "id": "4ba44f88",
   "metadata": {},
   "outputs": [
    {
     "name": "stdout",
     "output_type": "stream",
     "text": [
      "input_ids shape: (3, 8)\n",
      "attention_mask shape: (3, 8)\n",
      "labels shape: (5572,)\n"
     ]
    },
    {
     "ename": "ValueError",
     "evalue": "Found input variables with inconsistent numbers of samples: [3, 3, 5572]",
     "output_type": "error",
     "traceback": [
      "\u001b[31m---------------------------------------------------------------------------\u001b[39m",
      "\u001b[31mValueError\u001b[39m                                Traceback (most recent call last)",
      "\u001b[36mCell\u001b[39m\u001b[36m \u001b[39m\u001b[32mIn[74]\u001b[39m\u001b[32m, line 27\u001b[39m\n\u001b[32m     25\u001b[39m \u001b[38;5;66;03m# Split the data into training and validation sets\u001b[39;00m\n\u001b[32m     26\u001b[39m \u001b[38;5;28;01mfrom\u001b[39;00m\u001b[38;5;250m \u001b[39m\u001b[34;01msklearn\u001b[39;00m\u001b[34;01m.\u001b[39;00m\u001b[34;01mmodel_selection\u001b[39;00m\u001b[38;5;250m \u001b[39m\u001b[38;5;28;01mimport\u001b[39;00m train_test_split\n\u001b[32m---> \u001b[39m\u001b[32m27\u001b[39m train_inputs, val_inputs, train_masks, val_masks, train_labels, val_labels = \u001b[43mtrain_test_split\u001b[49m\u001b[43m(\u001b[49m\n\u001b[32m     28\u001b[39m \u001b[43m    \u001b[49m\u001b[43minput_ids_np\u001b[49m\u001b[43m,\u001b[49m\u001b[43m \u001b[49m\u001b[43mattention_mask_np\u001b[49m\u001b[43m,\u001b[49m\u001b[43m \u001b[49m\u001b[43mlabels_np\u001b[49m\u001b[43m,\u001b[49m\u001b[43m \u001b[49m\u001b[43mtest_size\u001b[49m\u001b[43m=\u001b[49m\u001b[32;43m0.1\u001b[39;49m\u001b[43m,\u001b[49m\u001b[43m \u001b[49m\u001b[43mrandom_state\u001b[49m\u001b[43m=\u001b[49m\u001b[32;43m42\u001b[39;49m\n\u001b[32m     29\u001b[39m \u001b[43m)\u001b[49m\n\u001b[32m     30\u001b[39m train_inputs = torch.tensor(train_inputs)\n\u001b[32m     31\u001b[39m val_inputs = torch.tensor(val_inputs)\n",
      "\u001b[36mFile \u001b[39m\u001b[32mc:\\Users\\bdcalling123\\AppData\\Local\\Programs\\Python\\Python313\\Lib\\site-packages\\sklearn\\utils\\_param_validation.py:218\u001b[39m, in \u001b[36mvalidate_params.<locals>.decorator.<locals>.wrapper\u001b[39m\u001b[34m(*args, **kwargs)\u001b[39m\n\u001b[32m    212\u001b[39m \u001b[38;5;28;01mtry\u001b[39;00m:\n\u001b[32m    213\u001b[39m     \u001b[38;5;28;01mwith\u001b[39;00m config_context(\n\u001b[32m    214\u001b[39m         skip_parameter_validation=(\n\u001b[32m    215\u001b[39m             prefer_skip_nested_validation \u001b[38;5;129;01mor\u001b[39;00m global_skip_validation\n\u001b[32m    216\u001b[39m         )\n\u001b[32m    217\u001b[39m     ):\n\u001b[32m--> \u001b[39m\u001b[32m218\u001b[39m         \u001b[38;5;28;01mreturn\u001b[39;00m \u001b[43mfunc\u001b[49m\u001b[43m(\u001b[49m\u001b[43m*\u001b[49m\u001b[43margs\u001b[49m\u001b[43m,\u001b[49m\u001b[43m \u001b[49m\u001b[43m*\u001b[49m\u001b[43m*\u001b[49m\u001b[43mkwargs\u001b[49m\u001b[43m)\u001b[49m\n\u001b[32m    219\u001b[39m \u001b[38;5;28;01mexcept\u001b[39;00m InvalidParameterError \u001b[38;5;28;01mas\u001b[39;00m e:\n\u001b[32m    220\u001b[39m     \u001b[38;5;66;03m# When the function is just a wrapper around an estimator, we allow\u001b[39;00m\n\u001b[32m    221\u001b[39m     \u001b[38;5;66;03m# the function to delegate validation to the estimator, but we replace\u001b[39;00m\n\u001b[32m    222\u001b[39m     \u001b[38;5;66;03m# the name of the estimator by the name of the function in the error\u001b[39;00m\n\u001b[32m    223\u001b[39m     \u001b[38;5;66;03m# message to avoid confusion.\u001b[39;00m\n\u001b[32m    224\u001b[39m     msg = re.sub(\n\u001b[32m    225\u001b[39m         \u001b[33mr\u001b[39m\u001b[33m\"\u001b[39m\u001b[33mparameter of \u001b[39m\u001b[33m\\\u001b[39m\u001b[33mw+ must be\u001b[39m\u001b[33m\"\u001b[39m,\n\u001b[32m    226\u001b[39m         \u001b[33mf\u001b[39m\u001b[33m\"\u001b[39m\u001b[33mparameter of \u001b[39m\u001b[38;5;132;01m{\u001b[39;00mfunc.\u001b[34m__qualname__\u001b[39m\u001b[38;5;132;01m}\u001b[39;00m\u001b[33m must be\u001b[39m\u001b[33m\"\u001b[39m,\n\u001b[32m    227\u001b[39m         \u001b[38;5;28mstr\u001b[39m(e),\n\u001b[32m    228\u001b[39m     )\n",
      "\u001b[36mFile \u001b[39m\u001b[32mc:\\Users\\bdcalling123\\AppData\\Local\\Programs\\Python\\Python313\\Lib\\site-packages\\sklearn\\model_selection\\_split.py:2916\u001b[39m, in \u001b[36mtrain_test_split\u001b[39m\u001b[34m(test_size, train_size, random_state, shuffle, stratify, *arrays)\u001b[39m\n\u001b[32m   2913\u001b[39m \u001b[38;5;28;01mif\u001b[39;00m n_arrays == \u001b[32m0\u001b[39m:\n\u001b[32m   2914\u001b[39m     \u001b[38;5;28;01mraise\u001b[39;00m \u001b[38;5;167;01mValueError\u001b[39;00m(\u001b[33m\"\u001b[39m\u001b[33mAt least one array required as input\u001b[39m\u001b[33m\"\u001b[39m)\n\u001b[32m-> \u001b[39m\u001b[32m2916\u001b[39m arrays = \u001b[43mindexable\u001b[49m\u001b[43m(\u001b[49m\u001b[43m*\u001b[49m\u001b[43marrays\u001b[49m\u001b[43m)\u001b[49m\n\u001b[32m   2918\u001b[39m n_samples = _num_samples(arrays[\u001b[32m0\u001b[39m])\n\u001b[32m   2919\u001b[39m n_train, n_test = _validate_shuffle_split(\n\u001b[32m   2920\u001b[39m     n_samples, test_size, train_size, default_test_size=\u001b[32m0.25\u001b[39m\n\u001b[32m   2921\u001b[39m )\n",
      "\u001b[36mFile \u001b[39m\u001b[32mc:\\Users\\bdcalling123\\AppData\\Local\\Programs\\Python\\Python313\\Lib\\site-packages\\sklearn\\utils\\validation.py:530\u001b[39m, in \u001b[36mindexable\u001b[39m\u001b[34m(*iterables)\u001b[39m\n\u001b[32m    500\u001b[39m \u001b[38;5;250m\u001b[39m\u001b[33;03m\"\"\"Make arrays indexable for cross-validation.\u001b[39;00m\n\u001b[32m    501\u001b[39m \n\u001b[32m    502\u001b[39m \u001b[33;03mChecks consistent length, passes through None, and ensures that everything\u001b[39;00m\n\u001b[32m   (...)\u001b[39m\u001b[32m    526\u001b[39m \u001b[33;03m[[1, 2, 3], array([2, 3, 4]), None, <...Sparse...dtype 'int64'...shape (3, 1)>]\u001b[39;00m\n\u001b[32m    527\u001b[39m \u001b[33;03m\"\"\"\u001b[39;00m\n\u001b[32m    529\u001b[39m result = [_make_indexable(X) \u001b[38;5;28;01mfor\u001b[39;00m X \u001b[38;5;129;01min\u001b[39;00m iterables]\n\u001b[32m--> \u001b[39m\u001b[32m530\u001b[39m \u001b[43mcheck_consistent_length\u001b[49m\u001b[43m(\u001b[49m\u001b[43m*\u001b[49m\u001b[43mresult\u001b[49m\u001b[43m)\u001b[49m\n\u001b[32m    531\u001b[39m \u001b[38;5;28;01mreturn\u001b[39;00m result\n",
      "\u001b[36mFile \u001b[39m\u001b[32mc:\\Users\\bdcalling123\\AppData\\Local\\Programs\\Python\\Python313\\Lib\\site-packages\\sklearn\\utils\\validation.py:473\u001b[39m, in \u001b[36mcheck_consistent_length\u001b[39m\u001b[34m(*arrays)\u001b[39m\n\u001b[32m    471\u001b[39m lengths = [_num_samples(X) \u001b[38;5;28;01mfor\u001b[39;00m X \u001b[38;5;129;01min\u001b[39;00m arrays \u001b[38;5;28;01mif\u001b[39;00m X \u001b[38;5;129;01mis\u001b[39;00m \u001b[38;5;129;01mnot\u001b[39;00m \u001b[38;5;28;01mNone\u001b[39;00m]\n\u001b[32m    472\u001b[39m \u001b[38;5;28;01mif\u001b[39;00m \u001b[38;5;28mlen\u001b[39m(\u001b[38;5;28mset\u001b[39m(lengths)) > \u001b[32m1\u001b[39m:\n\u001b[32m--> \u001b[39m\u001b[32m473\u001b[39m     \u001b[38;5;28;01mraise\u001b[39;00m \u001b[38;5;167;01mValueError\u001b[39;00m(\n\u001b[32m    474\u001b[39m         \u001b[33m\"\u001b[39m\u001b[33mFound input variables with inconsistent numbers of samples: \u001b[39m\u001b[38;5;132;01m%r\u001b[39;00m\u001b[33m\"\u001b[39m\n\u001b[32m    475\u001b[39m         % [\u001b[38;5;28mint\u001b[39m(l) \u001b[38;5;28;01mfor\u001b[39;00m l \u001b[38;5;129;01min\u001b[39;00m lengths]\n\u001b[32m    476\u001b[39m     )\n",
      "\u001b[31mValueError\u001b[39m: Found input variables with inconsistent numbers of samples: [3, 3, 5572]"
     ]
    }
   ],
   "source": [
    "# Model fine-tuning\n",
    "import torch\n",
    "from torch.utils.data import DataLoader, TensorDataset\n",
    "from torch.optim import AdamW  # Import AdamW from torch.optim instead of transformers\n",
    "import numpy as np\n",
    "from sklearn.metrics import accuracy_score, classification_report\n",
    "from tqdm.notebook import tqdm\n",
    "\n",
    "# Prepare dataset for PyTorch\n",
    "# Ensure input_ids, attention_mask, and labels are all the same length\n",
    "input_ids = X['input_ids']\n",
    "attention_mask = X['attention_mask']\n",
    "labels = torch.tensor(y.map({'ham': 0, 'spam': 1}).values)\n",
    "\n",
    "# Convert tensors to numpy arrays for splitting\n",
    "input_ids_np = input_ids.cpu().numpy()\n",
    "attention_mask_np = attention_mask.cpu().numpy()\n",
    "labels_np = labels.cpu().numpy()\n",
    "\n",
    "# Check shapes before splitting\n",
    "print('input_ids shape:', input_ids_np.shape)\n",
    "print('attention_mask shape:', attention_mask_np.shape)\n",
    "print('labels shape:', labels_np.shape)\n",
    "\n",
    "# Split the data into training and validation sets\n",
    "from sklearn.model_selection import train_test_split\n",
    "train_inputs, val_inputs, train_masks, val_masks, train_labels, val_labels = train_test_split(\n",
    "    input_ids_np, attention_mask_np, labels_np, test_size=0.1, random_state=42\n",
    ")\n",
    "train_inputs = torch.tensor(train_inputs)\n",
    "val_inputs = torch.tensor(val_inputs)\n",
    "train_masks = torch.tensor(train_masks)\n",
    "val_masks = torch.tensor(val_masks)\n",
    "train_labels = torch.tensor(train_labels)\n",
    "val_labels = torch.tensor(val_labels)\n",
    "\n",
    "# Create DataLoader for training\n",
    "train_dataset = TensorDataset(train_inputs, train_masks, train_labels)\n",
    "train_dataloader = DataLoader(train_dataset, batch_size=16, shuffle=True)\n",
    "\n",
    "# Create DataLoader for validation\n",
    "val_dataset = TensorDataset(val_inputs, val_masks, val_labels)\n",
    "val_dataloader = DataLoader(val_dataset, batch_size=32, shuffle=False)\n",
    "\n",
    "# Define optimizer and loss function\n",
    "optimizer = AdamW(classifier_model.parameters(), lr=2e-5)  # Lower learning rate for more stable training\n",
    "loss_fn = torch.nn.CrossEntropyLoss()\n",
    "\n",
    "# Training settings\n",
    "epochs = 3\n",
    "device = torch.device('cuda' if torch.cuda.is_available() else 'cpu')\n",
    "classifier_model = classifier_model.to(device)\n",
    "\n",
    "# Initialize lists to store metrics\n",
    "train_losses = []\n",
    "val_losses = []\n",
    "val_accuracies = []\n",
    "\n",
    "print(f\"Training on {device}\")\n",
    "\n",
    "# Training loop with progress tracking\n",
    "for epoch in range(epochs):\n",
    "    print(f\"\\nEpoch {epoch + 1}/{epochs}\")\n",
    "    \n",
    "    # Training phase\n",
    "    classifier_model.train()\n",
    "    total_train_loss = 0\n",
    "    progress_bar = tqdm(train_dataloader, desc=\"Training\")\n",
    "    \n",
    "    for batch in progress_bar:\n",
    "        b_input_ids, b_attention_mask, b_labels = [b.to(device) for b in batch]\n",
    "        \n",
    "        optimizer.zero_grad()\n",
    "        \n",
    "        # Forward pass\n",
    "        logits = classifier_model(b_input_ids, b_attention_mask)\n",
    "        loss = loss_fn(logits, b_labels)\n",
    "        \n",
    "        # Backward pass\n",
    "        loss.backward()\n",
    "        optimizer.step()\n",
    "        \n",
    "        total_train_loss += loss.item()\n",
    "        progress_bar.set_postfix({'train_loss': f'{loss.item():.4f}'})\n",
    "    \n",
    "    avg_train_loss = total_train_loss / len(train_dataloader)\n",
    "    train_losses.append(avg_train_loss)\n",
    "    \n",
    "    # Validation phase\n",
    "    classifier_model.eval()\n",
    "    total_val_loss = 0\n",
    "    val_preds = []\n",
    "    val_true = []\n",
    "    \n",
    "    with torch.no_grad():\n",
    "        for batch in tqdm(val_dataloader, desc=\"Validation\"):\n",
    "            b_input_ids, b_attention_mask, b_labels = [b.to(device) for b in batch]\n",
    "            \n",
    "            logits = classifier_model(b_input_ids, b_attention_mask)\n",
    "            loss = loss_fn(logits, b_labels)\n",
    "            \n",
    "            total_val_loss += loss.item()\n",
    "            \n",
    "            preds = torch.argmax(logits, dim=1).cpu().numpy()\n",
    "            val_preds.extend(preds)\n",
    "            val_true.extend(b_labels.cpu().numpy())\n",
    "    \n",
    "    avg_val_loss = total_val_loss / len(val_dataloader)\n",
    "    val_losses.append(avg_val_loss)\n",
    "    \n",
    "    val_accuracy = accuracy_score(val_true, val_preds)\n",
    "    val_accuracies.append(val_accuracy)\n",
    "    \n",
    "    print(f\"\\nAverage training loss: {avg_train_loss:.4f}\")\n",
    "    print(f\"Average validation loss: {avg_val_loss:.4f}\")\n",
    "    print(f\"Validation Accuracy: {val_accuracy:.4f}\")\n",
    "    print(\"\\nValidation Classification Report:\")\n",
    "    print(classification_report(val_true, val_preds, target_names=['ham', 'spam']))"
   ]
  },
  {
   "cell_type": "code",
   "execution_count": 73,
   "id": "8a3aa399",
   "metadata": {},
   "outputs": [
    {
     "name": "stdout",
     "output_type": "stream",
     "text": [
      "Type of X: <class 'transformers.tokenization_utils_base.BatchEncoding'>\n",
      "X shape: N/A\n",
      "Type of y: <class 'pandas.core.series.Series'>\n",
      "y shape: (5572,)\n",
      "First 5 y values: 0     ham\n",
      "1     ham\n",
      "2    spam\n",
      "3     ham\n",
      "4     ham\n",
      "Name: v1, dtype: object\n",
      "input_ids sample: {'input_ids': tensor([[  101,  7953,  1035,  8909,  2015,   102,     0,     0],\n",
      "        [  101, 19204,  1035,  2828,  1035,  8909,  2015,   102]]), 'token_type_ids': tensor([[0, 0, 0, 0, 0, 0, 0, 0],\n",
      "        [0, 0, 0, 0, 0, 0, 0, 0]]), 'attention_mask': tensor([[1, 1, 1, 1, 1, 1, 0, 0],\n",
      "        [1, 1, 1, 1, 1, 1, 1, 1]])}\n"
     ]
    }
   ],
   "source": [
    "# DEBUG: Check shapes and types before splitting\n",
    "print('Type of X:', type(X))\n",
    "if isinstance(X, dict):\n",
    "    print('X keys:', X.keys())\n",
    "    print('input_ids shape:', X['input_ids'].shape)\n",
    "    print('attention_mask shape:', X['attention_mask'].shape)\n",
    "else:\n",
    "    print('X shape:', getattr(X, 'shape', 'N/A'))\n",
    "print('Type of y:', type(y))\n",
    "print('y shape:', getattr(y, 'shape', 'N/A'))\n",
    "print('First 5 y values:', y[:5])\n",
    "print('input_ids sample:', X['input_ids'][:2] if isinstance(X, dict) else X[:2])"
   ]
  },
  {
   "cell_type": "code",
   "execution_count": null,
   "id": "16017ded",
   "metadata": {},
   "outputs": [],
   "source": [
    "# Plot training metrics\n",
    "import matplotlib.pyplot as plt\n",
    "\n",
    "plt.figure(figsize=(12, 4))\n",
    "\n",
    "# Plot losses\n",
    "plt.subplot(1, 2, 1)\n",
    "plt.plot(train_losses, label='Training Loss')\n",
    "plt.plot(val_losses, label='Validation Loss')\n",
    "plt.title('Training and Validation Loss')\n",
    "plt.xlabel('Epoch')\n",
    "plt.ylabel('Loss')\n",
    "plt.legend()\n",
    "\n",
    "# Plot validation accuracy\n",
    "plt.subplot(1, 2, 2)\n",
    "plt.plot(val_accuracies, label='Validation Accuracy')\n",
    "plt.title('Validation Accuracy')\n",
    "plt.xlabel('Epoch')\n",
    "plt.ylabel('Accuracy')\n",
    "plt.legend()\n",
    "\n",
    "plt.tight_layout()\n",
    "plt.show()"
   ]
  },
  {
   "cell_type": "code",
   "execution_count": null,
   "id": "ae83185d",
   "metadata": {},
   "outputs": [],
   "source": []
  }
 ],
 "metadata": {
  "kernelspec": {
   "display_name": "Python 3",
   "language": "python",
   "name": "python3"
  },
  "language_info": {
   "codemirror_mode": {
    "name": "ipython",
    "version": 3
   },
   "file_extension": ".py",
   "mimetype": "text/x-python",
   "name": "python",
   "nbconvert_exporter": "python",
   "pygments_lexer": "ipython3",
   "version": "3.13.7"
  }
 },
 "nbformat": 4,
 "nbformat_minor": 5
}
