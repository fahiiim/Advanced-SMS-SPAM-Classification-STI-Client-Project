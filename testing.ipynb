{
 "cells": [
  {
   "cell_type": "markdown",
   "id": "c5538f43",
   "metadata": {},
   "source": [
    "# 🔍 Interactive SMS Spam Detection Testing\n",
    "\n",
    "This notebook provides an interactive interface for testing our trained DistilBERT-based SMS spam detection model. You can input any SMS message and get real-time predictions with confidence scores."
   ]
  },
  {
   "cell_type": "code",
   "execution_count": null,
   "id": "30b006ba",
   "metadata": {},
   "outputs": [],
   "source": [
    "# Import required libraries\n",
    "import torch\n",
    "from transformers import DistilBertTokenizer, DistilBertForSequenceClassification\n",
    "import re\n",
    "import nltk\n",
    "from nltk.corpus import stopwords\n",
    "from nltk.tokenize import word_tokenize\n",
    "from nltk.stem import WordNetLemmatizer\n",
    "\n",
    "# Download required NLTK data\n",
    "nltk.download('punkt')\n",
    "nltk.download('stopwords')\n",
    "nltk.download('wordnet')\n",
    "nltk.download('omw-1.4')"
   ]
  },
  {
   "cell_type": "code",
   "execution_count": null,
   "id": "adf2e64f",
   "metadata": {},
   "outputs": [],
   "source": [
    "# Initialize preprocessing components\n",
    "stop_words = set(stopwords.words('english'))\n",
    "lemmatizer = WordNetLemmatizer()\n",
    "\n",
    "def preprocess_text(text):\n",
    "    # Convert to lowercase\n",
    "    text = text.lower()\n",
    "    \n",
    "    # Remove special characters and numbers\n",
    "    text = re.sub(r'[^a-zA-Z\\s]', '', text)\n",
    "    \n",
    "    # Tokenize\n",
    "    tokens = word_tokenize(text)\n",
    "    \n",
    "    # Remove stopwords and lemmatize\n",
    "    tokens = [lemmatizer.lemmatize(token) for token in tokens if token not in stop_words]\n",
    "    \n",
    "    # Join tokens back into text\n",
    "    return ' '.join(tokens)\n",
    "\n",
    "# Load the model and tokenizer\n",
    "model_path = \"best_model.pt\"  # Update this path if needed\n",
    "tokenizer = DistilBertTokenizer.from_pretrained('distilbert-base-uncased')\n",
    "\n",
    "try:\n",
    "    model = DistilBertForSequenceClassification.from_pretrained('distilbert-base-uncased', num_labels=2)\n",
    "    model.load_state_dict(torch.load(model_path))\n",
    "    model.eval()\n",
    "    print(\"Model loaded successfully!\")\n",
    "except Exception as e:\n",
    "    print(f\"Error loading model: {e}\")"
   ]
  },
  {
   "cell_type": "code",
   "execution_count": null,
   "id": "87c93a86",
   "metadata": {},
   "outputs": [],
   "source": [
    "def predict_spam(text):\n",
    "    # Preprocess the input text\n",
    "    processed_text = preprocess_text(text)\n",
    "    \n",
    "    # Tokenize the text\n",
    "    inputs = tokenizer(processed_text, return_tensors=\"pt\", padding=True, truncation=True, max_length=512)\n",
    "    \n",
    "    # Make prediction\n",
    "    with torch.no_grad():\n",
    "        outputs = model(**inputs)\n",
    "        predictions = torch.softmax(outputs.logits, dim=1)\n",
    "        \n",
    "    # Get the predicted class and confidence\n",
    "    predicted_class = torch.argmax(predictions, dim=1).item()\n",
    "    confidence = predictions[0][predicted_class].item()\n",
    "    \n",
    "    return {\n",
    "        \"is_spam\": bool(predicted_class),\n",
    "        \"confidence\": confidence,\n",
    "        \"processed_text\": processed_text\n",
    "    }"
   ]
  },
  {
   "cell_type": "code",
   "execution_count": null,
   "id": "4806c301",
   "metadata": {},
   "outputs": [],
   "source": [
    "# Interactive testing loop\n",
    "while True:\n",
    "    # Get input from user\n",
    "    text = input(\"\\nEnter an SMS message to test (or 'quit' to exit): \")\n",
    "    \n",
    "    # Check if user wants to quit\n",
    "    if text.lower() == 'quit':\n",
    "        print(\"\\nThank you for using the SMS Spam Detector!\")\n",
    "        break\n",
    "    \n",
    "    # Make prediction\n",
    "    result = predict_spam(text)\n",
    "    \n",
    "    # Print results\n",
    "    print(\"\\n🔍 Analysis Results:\")\n",
    "    print(\"-\" * 50)\n",
    "    print(f\"Original Text: {text}\")\n",
    "    print(f\"Processed Text: {result['processed_text']}\")\n",
    "    print(f\"Prediction: {'SPAM' if result['is_spam'] else 'HAM (Not Spam)'}\")\n",
    "    print(f\"Confidence: {result['confidence']*100:.2f}%\")\n",
    "    print(\"-\" * 50)"
   ]
  },
  {
   "cell_type": "markdown",
   "id": "5aa3efa5",
   "metadata": {},
   "source": [
    "## Example Usage\n",
    "\n",
    "Try testing the model with different types of messages. Here are some examples you can try:\n",
    "\n",
    "1. A normal message: \"Hi, can we meet tomorrow at 2pm?\"\n",
    "2. A potential spam: \"CONGRATULATIONS! You've won $1,000,000! Click here to claim now!\"\n",
    "3. Another normal message: \"Please pick up some milk on your way home\"\n",
    "4. Another potential spam: \"FREE CREDIT CHECK! No obligation! Reply YES now!\"\n",
    "\n",
    "The model will analyze each message and provide:\n",
    "- The processed version of your text (after cleaning and preprocessing)\n",
    "- The prediction (SPAM or HAM)\n",
    "- The confidence level of the prediction\n",
    "\n",
    "Type 'quit' when you're done testing."
   ]
  }
 ],
 "metadata": {
  "language_info": {
   "name": "python"
  }
 },
 "nbformat": 4,
 "nbformat_minor": 5
}
